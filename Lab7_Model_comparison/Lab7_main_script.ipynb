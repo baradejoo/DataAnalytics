{
 "cells": [
  {
   "cell_type": "markdown",
   "metadata": {},
   "source": [
    "## **Lab 7 - Model comparison**"
   ]
  },
  {
   "cell_type": "code",
   "execution_count": 5,
   "metadata": {},
   "outputs": [],
   "source": [
    "import numpy as np\n",
    "from cmdstanpy import CmdStanModel\n",
    "import matplotlib.pyplot as plt"
   ]
  },
  {
   "cell_type": "markdown",
   "metadata": {},
   "source": [
    "F - number of letters in first name L - number of letters in last name"
   ]
  },
  {
   "cell_type": "code",
   "execution_count": 11,
   "metadata": {},
   "outputs": [],
   "source": [
    "F = 5\n",
    "L = 9\n",
    "N = (L+F)*100\n",
    "import cmdstanpy"
   ]
  },
  {
   "cell_type": "code",
   "execution_count": 12,
   "metadata": {},
   "outputs": [
    {
     "name": "stderr",
     "output_type": "stream",
     "text": [
      "Done:  (04:47) | \u001b[34m███████████████████████████████\u001b[0m | --- CmdStan v2.29.1 built ---\u001b[0m\n"
     ]
    }
   ],
   "source": [
    "cmdstanpy.rebuild_cmdstan()"
   ]
  },
  {
   "cell_type": "markdown",
   "metadata": {},
   "source": [
    "#### **Task 1: Generate data**"
   ]
  },
  {
   "cell_type": "code",
   "execution_count": 14,
   "metadata": {},
   "outputs": [
    {
     "name": "stderr",
     "output_type": "stream",
     "text": [
      "INFO:cmdstanpy:found newer exe file, not recompiling\n"
     ]
    }
   ],
   "source": [
    "data = dict(N = N)\n",
    "data_generator_code = CmdStanModel(stan_file = 'code_1.stan')"
   ]
  },
  {
   "cell_type": "code",
   "execution_count": 15,
   "metadata": {},
   "outputs": [
    {
     "name": "stderr",
     "output_type": "stream",
     "text": [
      "INFO:cmdstanpy:CmdStan start processing\n",
      "chain 1 |\u001b[33m                                                         \u001b[0m| 00:00 Status\u001b[0m\n",
      "chain 2 |\u001b[33m                                                         \u001b[0m| 00:00 Status\u001b[0m\u001b[A\n",
      "\n",
      "chain 3 |\u001b[33m                                                         \u001b[0m| 00:00 Status\u001b[0m\u001b[A\u001b[A\n",
      "\n",
      "\n",
      "chain 1 |\u001b[34m██                     \u001b[0m| 00:00 Iteration:   1 / 1000 [  0%]  (Sampling)\u001b[0m\u001b[A\u001b[A\u001b[A\n",
      "\n",
      "chain 3 |\u001b[34m██                     \u001b[0m| 00:00 Iteration:   1 / 1000 [  0%]  (Sampling)\u001b[0m\u001b[A\u001b[A\n",
      "chain 2 |\u001b[34m██                     \u001b[0m| 00:00 Iteration:   1 / 1000 [  0%]  (Sampling)\u001b[0m\u001b[A\n",
      "\n",
      "\n",
      "chain 1 |\u001b[34m████▏                  \u001b[0m| 00:00 Iteration: 200 / 1000 [ 20%]  (Sampling)\u001b[0m\u001b[A\u001b[A\u001b[A\n",
      "\n",
      "chain 3 |\u001b[34m████▏                  \u001b[0m| 00:00 Iteration: 200 / 1000 [ 20%]  (Sampling)\u001b[0m\u001b[A\u001b[A\n",
      "chain 2 |\u001b[34m████▏                  \u001b[0m| 00:00 Iteration: 200 / 1000 [ 20%]  (Sampling)\u001b[0m\u001b[A\n",
      "\n",
      "\n",
      "chain 1 |\u001b[34m█████▏                 \u001b[0m| 00:00 Iteration: 300 / 1000 [ 30%]  (Sampling)\u001b[0m\u001b[A\u001b[A\u001b[A\n",
      "\n",
      "chain 3 |\u001b[34m█████▏                 \u001b[0m| 00:00 Iteration: 300 / 1000 [ 30%]  (Sampling)\u001b[0m\u001b[A\u001b[A\n",
      "chain 2 |\u001b[34m█████▏                 \u001b[0m| 00:00 Iteration: 300 / 1000 [ 30%]  (Sampling)\u001b[0m\u001b[A\n",
      "\n",
      "\n",
      "chain 1 |\u001b[34m██████▎                \u001b[0m| 00:00 Iteration: 400 / 1000 [ 40%]  (Sampling)\u001b[0m\u001b[A\u001b[A\u001b[A\n",
      "\n",
      "chain 3 |\u001b[34m██████▎                \u001b[0m| 00:00 Iteration: 400 / 1000 [ 40%]  (Sampling)\u001b[0m\u001b[A\u001b[A\n",
      "chain 2 |\u001b[34m██████▎                \u001b[0m| 00:00 Iteration: 400 / 1000 [ 40%]  (Sampling)\u001b[0m\u001b[A\n",
      "\n",
      "\n",
      "chain 1 |\u001b[34m███████▎               \u001b[0m| 00:00 Iteration: 500 / 1000 [ 50%]  (Sampling)\u001b[0m\u001b[A\u001b[A\u001b[A\n",
      "\n",
      "chain 3 |\u001b[34m███████▎               \u001b[0m| 00:00 Iteration: 500 / 1000 [ 50%]  (Sampling)\u001b[0m\u001b[A\u001b[A\n",
      "chain 2 |\u001b[34m███████▎               \u001b[0m| 00:00 Iteration: 500 / 1000 [ 50%]  (Sampling)\u001b[0m\u001b[A\n",
      "\n",
      "\n",
      "chain 4 |\u001b[34m███████▎               \u001b[0m| 00:00 Iteration: 500 / 1000 [ 50%]  (Sampling)\u001b[0m\u001b[A\u001b[A\u001b[A\n",
      "\n",
      "chain 1 |\u001b[34m████████▎              \u001b[0m| 00:00 Iteration: 600 / 1000 [ 60%]  (Sampling)\u001b[0m\u001b[A\u001b[A\n",
      "chain 2 |\u001b[34m████████▎              \u001b[0m| 00:00 Iteration: 600 / 1000 [ 60%]  (Sampling)\u001b[0m\u001b[A\n",
      "\n",
      "\n",
      "chain 1 |\u001b[34m█████████▍             \u001b[0m| 00:01 Iteration: 700 / 1000 [ 70%]  (Sampling)\u001b[0m\u001b[A\u001b[A\u001b[A\n",
      "\n",
      "chain 3 |\u001b[34m█████████▍             \u001b[0m| 00:01 Iteration: 700 / 1000 [ 70%]  (Sampling)\u001b[0m\u001b[A\u001b[A\n",
      "chain 2 |\u001b[34m█████████▍             \u001b[0m| 00:01 Iteration: 700 / 1000 [ 70%]  (Sampling)\u001b[0m\u001b[A\n",
      "\n",
      "\n",
      "chain 1 |\u001b[34m██████████▍            \u001b[0m| 00:01 Iteration: 800 / 1000 [ 80%]  (Sampling)\u001b[0m\u001b[A\u001b[A\u001b[A\n",
      "\n",
      "chain 3 |\u001b[34m██████████▍            \u001b[0m| 00:01 Iteration: 800 / 1000 [ 80%]  (Sampling)\u001b[0m\u001b[A\u001b[A\n",
      "chain 2 |\u001b[34m██████████▍            \u001b[0m| 00:01 Iteration: 800 / 1000 [ 80%]  (Sampling)\u001b[0m\u001b[A\n",
      "\n",
      "\n",
      "chain 1 |\u001b[34m███████████▌           \u001b[0m| 00:01 Iteration: 900 / 1000 [ 90%]  (Sampling)\u001b[0m\u001b[A\u001b[A\u001b[A\n",
      "\n",
      "chain 3 |\u001b[34m███████████▌           \u001b[0m| 00:01 Iteration: 900 / 1000 [ 90%]  (Sampling)\u001b[0m\u001b[A\u001b[A\n",
      "chain 2 |\u001b[34m███████████▌           \u001b[0m| 00:01 Iteration: 900 / 1000 [ 90%]  (Sampling)\u001b[0m\u001b[A\n",
      "\n",
      "\n",
      "chain 1 |\u001b[34m█████████████████████████████████████████████\u001b[0m| 00:01 Sampling completed\u001b[0m\u001b[A\u001b[A\u001b[A\n",
      "chain 2 |\u001b[34m█████████████████████████████████████████████\u001b[0m| 00:01 Sampling completed\u001b[0m\n",
      "chain 3 |\u001b[34m█████████████████████████████████████████████\u001b[0m| 00:01 Sampling completed\u001b[0m\n",
      "chain 4 |\u001b[34m█████████████████████████████████████████████\u001b[0m| 00:01 Sampling completed\u001b[0m"
     ]
    },
    {
     "name": "stdout",
     "output_type": "stream",
     "text": [
      "                                                                                                                                                                                                                                                                                                                                "
     ]
    },
    {
     "name": "stderr",
     "output_type": "stream",
     "text": [
      "\n",
      "INFO:cmdstanpy:CmdStan done processing.\n"
     ]
    },
    {
     "name": "stdout",
     "output_type": "stream",
     "text": [
      "\n"
     ]
    }
   ],
   "source": [
    "result_code = data_generator_code.sample(data = data)"
   ]
  },
  {
   "cell_type": "code",
   "execution_count": 17,
   "metadata": {},
   "outputs": [
    {
     "name": "stderr",
     "output_type": "stream",
     "text": [
      "INFO:cmdstanpy:found newer exe file, not recompiling\n",
      "INFO:cmdstanpy:CmdStan start processing\n",
      "chain 1 |\u001b[33m                                                         \u001b[0m| 00:00 Status\u001b[0m\n",
      "chain 2 |\u001b[33m                                                         \u001b[0m| 00:00 Status\u001b[0m\u001b[A\n",
      "\n",
      "chain 3 |\u001b[33m                                                         \u001b[0m| 00:00 Status\u001b[0m\u001b[A\u001b[A\n",
      "\n",
      "\n",
      "chain 4 |\u001b[33m                                                         \u001b[0m| 00:00 Status\u001b[0m\u001b[A\u001b[A\u001b[A\n",
      "\n",
      "chain 3 |\u001b[34m██                     \u001b[0m| 00:00 Iteration:   1 / 1000 [  0%]  (Sampling)\u001b[0m\u001b[A\u001b[A\n",
      "chain 1 |\u001b[34m██                     \u001b[0m| 00:00 Iteration:   1 / 1000 [  0%]  (Sampling)\u001b[0m\u001b[A\n",
      "\n",
      "\n",
      "chain 4 |\u001b[34m██                     \u001b[0m| 00:00 Iteration:   1 / 1000 [  0%]  (Sampling)\u001b[0m\u001b[A\u001b[A\u001b[A\n",
      "\n",
      "chain 3 |\u001b[34m███▏                   \u001b[0m| 00:00 Iteration: 100 / 1000 [ 10%]  (Sampling)\u001b[0m\u001b[A\u001b[A\n",
      "chain 1 |\u001b[34m███▏                   \u001b[0m| 00:00 Iteration: 100 / 1000 [ 10%]  (Sampling)\u001b[0m\u001b[A\n",
      "\n",
      "\n",
      "chain 4 |\u001b[34m███▏                   \u001b[0m| 00:00 Iteration: 100 / 1000 [ 10%]  (Sampling)\u001b[0m\u001b[A\u001b[A\u001b[A\n",
      "\n",
      "chain 3 |\u001b[34m████▏                  \u001b[0m| 00:01 Iteration: 200 / 1000 [ 20%]  (Sampling)\u001b[0m\u001b[A\u001b[A\n",
      "chain 1 |\u001b[34m████▏                  \u001b[0m| 00:01 Iteration: 200 / 1000 [ 20%]  (Sampling)\u001b[0m\u001b[A\n",
      "\n",
      "\n",
      "chain 4 |\u001b[34m████▏                  \u001b[0m| 00:01 Iteration: 200 / 1000 [ 20%]  (Sampling)\u001b[0m\u001b[A\u001b[A\u001b[A\n",
      "\n",
      "chain 3 |\u001b[34m█████▏                 \u001b[0m| 00:01 Iteration: 300 / 1000 [ 30%]  (Sampling)\u001b[0m\u001b[A\u001b[A\n",
      "chain 1 |\u001b[34m█████▏                 \u001b[0m| 00:01 Iteration: 300 / 1000 [ 30%]  (Sampling)\u001b[0m\u001b[A\n",
      "\n",
      "\n",
      "chain 4 |\u001b[34m█████▏                 \u001b[0m| 00:01 Iteration: 300 / 1000 [ 30%]  (Sampling)\u001b[0m\u001b[A\u001b[A\u001b[A\n",
      "\n",
      "chain 3 |\u001b[34m██████▎                \u001b[0m| 00:02 Iteration: 400 / 1000 [ 40%]  (Sampling)\u001b[0m\u001b[A\u001b[A\n",
      "chain 1 |\u001b[34m██████▎                \u001b[0m| 00:02 Iteration: 400 / 1000 [ 40%]  (Sampling)\u001b[0m\u001b[A\n",
      "\n",
      "\n",
      "chain 4 |\u001b[34m██████▎                \u001b[0m| 00:02 Iteration: 400 / 1000 [ 40%]  (Sampling)\u001b[0m\u001b[A\u001b[A\u001b[A\n",
      "\n",
      "chain 1 |\u001b[34m███████▎               \u001b[0m| 00:02 Iteration: 500 / 1000 [ 50%]  (Sampling)\u001b[0m\u001b[A\u001b[A\n",
      "chain 2 |\u001b[34m███████▎               \u001b[0m| 00:02 Iteration: 500 / 1000 [ 50%]  (Sampling)\u001b[0m\u001b[A\n",
      "\n",
      "\n",
      "chain 4 |\u001b[34m███████▎               \u001b[0m| 00:02 Iteration: 500 / 1000 [ 50%]  (Sampling)\u001b[0m\u001b[A\u001b[A\u001b[A\n",
      "\n",
      "chain 1 |\u001b[34m████████▎              \u001b[0m| 00:02 Iteration: 600 / 1000 [ 60%]  (Sampling)\u001b[0m\u001b[A\u001b[A\n",
      "chain 2 |\u001b[34m████████▎              \u001b[0m| 00:02 Iteration: 600 / 1000 [ 60%]  (Sampling)\u001b[0m\u001b[A\n",
      "\n",
      "\n",
      "chain 4 |\u001b[34m████████▎              \u001b[0m| 00:02 Iteration: 600 / 1000 [ 60%]  (Sampling)\u001b[0m\u001b[A\u001b[A\u001b[A\n",
      "\n",
      "chain 1 |\u001b[34m█████████▍             \u001b[0m| 00:03 Iteration: 700 / 1000 [ 70%]  (Sampling)\u001b[0m\u001b[A\u001b[A\n",
      "chain 2 |\u001b[34m█████████▍             \u001b[0m| 00:03 Iteration: 700 / 1000 [ 70%]  (Sampling)\u001b[0m\u001b[A\n",
      "\n",
      "\n",
      "chain 4 |\u001b[34m█████████▍             \u001b[0m| 00:03 Iteration: 700 / 1000 [ 70%]  (Sampling)\u001b[0m\u001b[A\u001b[A\u001b[A\n",
      "\n",
      "chain 1 |\u001b[34m██████████▍            \u001b[0m| 00:03 Iteration: 800 / 1000 [ 80%]  (Sampling)\u001b[0m\u001b[A\u001b[A\n",
      "chain 2 |\u001b[34m██████████▍            \u001b[0m| 00:03 Iteration: 800 / 1000 [ 80%]  (Sampling)\u001b[0m\u001b[A\n",
      "\n",
      "\n",
      "chain 4 |\u001b[34m██████████▍            \u001b[0m| 00:03 Iteration: 800 / 1000 [ 80%]  (Sampling)\u001b[0m\u001b[A\u001b[A\u001b[A\n",
      "\n",
      "chain 1 |\u001b[34m███████████▌           \u001b[0m| 00:04 Iteration: 900 / 1000 [ 90%]  (Sampling)\u001b[0m\u001b[A\u001b[A\n",
      "chain 2 |\u001b[34m███████████▌           \u001b[0m| 00:04 Iteration: 900 / 1000 [ 90%]  (Sampling)\u001b[0m\u001b[A\n",
      "\n",
      "\n",
      "chain 1 |\u001b[34m█████████████████████████████████████████████\u001b[0m| 00:04 Sampling completed\u001b[0m\u001b[A\u001b[A\u001b[A\n",
      "chain 2 |\u001b[34m█████████████████████████████████████████████\u001b[0m| 00:04 Sampling completed\u001b[0m\n",
      "chain 3 |\u001b[34m█████████████████████████████████████████████\u001b[0m| 00:04 Sampling completed\u001b[0m\n",
      "chain 4 |\u001b[34m█████████████████████████████████████████████\u001b[0m| 00:04 Sampling completed\u001b[0m"
     ]
    },
    {
     "name": "stdout",
     "output_type": "stream",
     "text": [
      "                                                                                                                                                                                                                                                                                                                                "
     ]
    },
    {
     "name": "stderr",
     "output_type": "stream",
     "text": [
      "\n",
      "INFO:cmdstanpy:CmdStan done processing.\n"
     ]
    },
    {
     "name": "stdout",
     "output_type": "stream",
     "text": [
      "\n"
     ]
    }
   ],
   "source": [
    "data_generator_code_2 = CmdStanModel(stan_file = 'code_2.stan')\n",
    "result_code_2 = data_generator_code_2.sample(data = data)"
   ]
  },
  {
   "cell_type": "markdown",
   "metadata": {},
   "source": [
    "2. Generate data for the rest of the excercises."
   ]
  },
  {
   "cell_type": "code",
   "execution_count": 18,
   "metadata": {},
   "outputs": [],
   "source": [
    "X = result_code_2.stan_variable('X')[0]"
   ]
  },
  {
   "cell_type": "code",
   "execution_count": 19,
   "metadata": {},
   "outputs": [
    {
     "data": {
      "text/html": [
       "<div>\n",
       "<style scoped>\n",
       "    .dataframe tbody tr th:only-of-type {\n",
       "        vertical-align: middle;\n",
       "    }\n",
       "\n",
       "    .dataframe tbody tr th {\n",
       "        vertical-align: top;\n",
       "    }\n",
       "\n",
       "    .dataframe thead th {\n",
       "        text-align: right;\n",
       "    }\n",
       "</style>\n",
       "<table border=\"1\" class=\"dataframe\">\n",
       "  <thead>\n",
       "    <tr style=\"text-align: right;\">\n",
       "      <th></th>\n",
       "      <th>lp__</th>\n",
       "      <th>accept_stat__</th>\n",
       "      <th>theta</th>\n",
       "      <th>y[1]</th>\n",
       "      <th>y[2]</th>\n",
       "      <th>y[3]</th>\n",
       "      <th>y[4]</th>\n",
       "      <th>y[5]</th>\n",
       "      <th>y[6]</th>\n",
       "      <th>y[7]</th>\n",
       "      <th>...</th>\n",
       "      <th>y[1391]</th>\n",
       "      <th>y[1392]</th>\n",
       "      <th>y[1393]</th>\n",
       "      <th>y[1394]</th>\n",
       "      <th>y[1395]</th>\n",
       "      <th>y[1396]</th>\n",
       "      <th>y[1397]</th>\n",
       "      <th>y[1398]</th>\n",
       "      <th>y[1399]</th>\n",
       "      <th>y[1400]</th>\n",
       "    </tr>\n",
       "  </thead>\n",
       "  <tbody>\n",
       "    <tr>\n",
       "      <th>0</th>\n",
       "      <td>0.0</td>\n",
       "      <td>0.0</td>\n",
       "      <td>0.01</td>\n",
       "      <td>0.457374</td>\n",
       "      <td>1.195590</td>\n",
       "      <td>-0.617671</td>\n",
       "      <td>1.187270</td>\n",
       "      <td>0.140905</td>\n",
       "      <td>0.666113</td>\n",
       "      <td>1.194600</td>\n",
       "      <td>...</td>\n",
       "      <td>0.554151</td>\n",
       "      <td>1.107100</td>\n",
       "      <td>-0.537066</td>\n",
       "      <td>-1.213030</td>\n",
       "      <td>1.352730</td>\n",
       "      <td>-0.244134</td>\n",
       "      <td>1.377400</td>\n",
       "      <td>-1.476650</td>\n",
       "      <td>-0.559452</td>\n",
       "      <td>-0.510922</td>\n",
       "    </tr>\n",
       "    <tr>\n",
       "      <th>1</th>\n",
       "      <td>0.0</td>\n",
       "      <td>0.0</td>\n",
       "      <td>0.01</td>\n",
       "      <td>0.031036</td>\n",
       "      <td>0.308259</td>\n",
       "      <td>-0.982639</td>\n",
       "      <td>0.428042</td>\n",
       "      <td>2.361940</td>\n",
       "      <td>1.070980</td>\n",
       "      <td>-0.360301</td>\n",
       "      <td>...</td>\n",
       "      <td>0.372656</td>\n",
       "      <td>0.799247</td>\n",
       "      <td>0.735426</td>\n",
       "      <td>0.037210</td>\n",
       "      <td>0.862381</td>\n",
       "      <td>-1.785240</td>\n",
       "      <td>-0.996739</td>\n",
       "      <td>1.767830</td>\n",
       "      <td>1.316240</td>\n",
       "      <td>-0.564766</td>\n",
       "    </tr>\n",
       "    <tr>\n",
       "      <th>2</th>\n",
       "      <td>0.0</td>\n",
       "      <td>0.0</td>\n",
       "      <td>0.01</td>\n",
       "      <td>-0.876890</td>\n",
       "      <td>-0.746513</td>\n",
       "      <td>-0.007801</td>\n",
       "      <td>-1.760950</td>\n",
       "      <td>0.284137</td>\n",
       "      <td>-0.213753</td>\n",
       "      <td>-1.278690</td>\n",
       "      <td>...</td>\n",
       "      <td>-1.323450</td>\n",
       "      <td>-0.446865</td>\n",
       "      <td>0.168695</td>\n",
       "      <td>-0.272287</td>\n",
       "      <td>-0.485609</td>\n",
       "      <td>-1.897360</td>\n",
       "      <td>0.041009</td>\n",
       "      <td>0.811071</td>\n",
       "      <td>-0.514891</td>\n",
       "      <td>0.304582</td>\n",
       "    </tr>\n",
       "    <tr>\n",
       "      <th>3</th>\n",
       "      <td>0.0</td>\n",
       "      <td>0.0</td>\n",
       "      <td>0.01</td>\n",
       "      <td>-1.512900</td>\n",
       "      <td>0.059133</td>\n",
       "      <td>-0.033874</td>\n",
       "      <td>1.345190</td>\n",
       "      <td>0.782924</td>\n",
       "      <td>-0.958409</td>\n",
       "      <td>1.231860</td>\n",
       "      <td>...</td>\n",
       "      <td>0.287354</td>\n",
       "      <td>0.666450</td>\n",
       "      <td>0.105432</td>\n",
       "      <td>-1.028670</td>\n",
       "      <td>-0.058062</td>\n",
       "      <td>-1.858770</td>\n",
       "      <td>0.436092</td>\n",
       "      <td>0.377191</td>\n",
       "      <td>0.876868</td>\n",
       "      <td>-0.711960</td>\n",
       "    </tr>\n",
       "    <tr>\n",
       "      <th>4</th>\n",
       "      <td>0.0</td>\n",
       "      <td>0.0</td>\n",
       "      <td>0.01</td>\n",
       "      <td>0.417767</td>\n",
       "      <td>0.524839</td>\n",
       "      <td>-0.100914</td>\n",
       "      <td>-0.449073</td>\n",
       "      <td>1.447730</td>\n",
       "      <td>0.582969</td>\n",
       "      <td>-1.863450</td>\n",
       "      <td>...</td>\n",
       "      <td>0.089829</td>\n",
       "      <td>-0.682633</td>\n",
       "      <td>-0.571238</td>\n",
       "      <td>-0.664258</td>\n",
       "      <td>1.035500</td>\n",
       "      <td>0.236717</td>\n",
       "      <td>-1.291750</td>\n",
       "      <td>1.326270</td>\n",
       "      <td>0.983260</td>\n",
       "      <td>1.011000</td>\n",
       "    </tr>\n",
       "    <tr>\n",
       "      <th>...</th>\n",
       "      <td>...</td>\n",
       "      <td>...</td>\n",
       "      <td>...</td>\n",
       "      <td>...</td>\n",
       "      <td>...</td>\n",
       "      <td>...</td>\n",
       "      <td>...</td>\n",
       "      <td>...</td>\n",
       "      <td>...</td>\n",
       "      <td>...</td>\n",
       "      <td>...</td>\n",
       "      <td>...</td>\n",
       "      <td>...</td>\n",
       "      <td>...</td>\n",
       "      <td>...</td>\n",
       "      <td>...</td>\n",
       "      <td>...</td>\n",
       "      <td>...</td>\n",
       "      <td>...</td>\n",
       "      <td>...</td>\n",
       "      <td>...</td>\n",
       "    </tr>\n",
       "    <tr>\n",
       "      <th>3995</th>\n",
       "      <td>0.0</td>\n",
       "      <td>0.0</td>\n",
       "      <td>0.01</td>\n",
       "      <td>-1.905710</td>\n",
       "      <td>0.817135</td>\n",
       "      <td>-0.367852</td>\n",
       "      <td>-1.149100</td>\n",
       "      <td>19.216400</td>\n",
       "      <td>-1.764550</td>\n",
       "      <td>-0.591775</td>\n",
       "      <td>...</td>\n",
       "      <td>-0.349898</td>\n",
       "      <td>-0.863672</td>\n",
       "      <td>1.042900</td>\n",
       "      <td>2.378990</td>\n",
       "      <td>0.323097</td>\n",
       "      <td>0.397361</td>\n",
       "      <td>0.810809</td>\n",
       "      <td>0.407918</td>\n",
       "      <td>-0.832658</td>\n",
       "      <td>0.130961</td>\n",
       "    </tr>\n",
       "    <tr>\n",
       "      <th>3996</th>\n",
       "      <td>0.0</td>\n",
       "      <td>0.0</td>\n",
       "      <td>0.01</td>\n",
       "      <td>1.551260</td>\n",
       "      <td>-0.197275</td>\n",
       "      <td>-1.458550</td>\n",
       "      <td>1.231780</td>\n",
       "      <td>0.168142</td>\n",
       "      <td>-1.201350</td>\n",
       "      <td>-0.396464</td>\n",
       "      <td>...</td>\n",
       "      <td>0.128358</td>\n",
       "      <td>0.943645</td>\n",
       "      <td>-0.044036</td>\n",
       "      <td>1.258460</td>\n",
       "      <td>-0.218365</td>\n",
       "      <td>1.908280</td>\n",
       "      <td>0.829587</td>\n",
       "      <td>0.745512</td>\n",
       "      <td>-1.133200</td>\n",
       "      <td>1.731900</td>\n",
       "    </tr>\n",
       "    <tr>\n",
       "      <th>3997</th>\n",
       "      <td>0.0</td>\n",
       "      <td>0.0</td>\n",
       "      <td>0.01</td>\n",
       "      <td>-0.911361</td>\n",
       "      <td>0.373550</td>\n",
       "      <td>-1.236260</td>\n",
       "      <td>-0.298932</td>\n",
       "      <td>0.928281</td>\n",
       "      <td>0.014581</td>\n",
       "      <td>-0.718629</td>\n",
       "      <td>...</td>\n",
       "      <td>-1.138830</td>\n",
       "      <td>-1.010560</td>\n",
       "      <td>-1.666100</td>\n",
       "      <td>0.116412</td>\n",
       "      <td>-0.023228</td>\n",
       "      <td>0.450603</td>\n",
       "      <td>-0.126397</td>\n",
       "      <td>0.623287</td>\n",
       "      <td>0.352314</td>\n",
       "      <td>0.160664</td>\n",
       "    </tr>\n",
       "    <tr>\n",
       "      <th>3998</th>\n",
       "      <td>0.0</td>\n",
       "      <td>0.0</td>\n",
       "      <td>0.01</td>\n",
       "      <td>0.905442</td>\n",
       "      <td>-1.848130</td>\n",
       "      <td>0.705368</td>\n",
       "      <td>-1.380150</td>\n",
       "      <td>0.004391</td>\n",
       "      <td>0.534757</td>\n",
       "      <td>-1.641010</td>\n",
       "      <td>...</td>\n",
       "      <td>-1.802950</td>\n",
       "      <td>-0.975383</td>\n",
       "      <td>-1.667150</td>\n",
       "      <td>2.199280</td>\n",
       "      <td>0.581211</td>\n",
       "      <td>1.488380</td>\n",
       "      <td>-0.662498</td>\n",
       "      <td>1.318240</td>\n",
       "      <td>0.158282</td>\n",
       "      <td>-1.880670</td>\n",
       "    </tr>\n",
       "    <tr>\n",
       "      <th>3999</th>\n",
       "      <td>0.0</td>\n",
       "      <td>0.0</td>\n",
       "      <td>0.01</td>\n",
       "      <td>0.693582</td>\n",
       "      <td>0.112802</td>\n",
       "      <td>-0.697016</td>\n",
       "      <td>0.429651</td>\n",
       "      <td>0.679032</td>\n",
       "      <td>1.330750</td>\n",
       "      <td>1.015820</td>\n",
       "      <td>...</td>\n",
       "      <td>-1.325860</td>\n",
       "      <td>0.324587</td>\n",
       "      <td>0.416858</td>\n",
       "      <td>0.257875</td>\n",
       "      <td>0.096937</td>\n",
       "      <td>-0.792107</td>\n",
       "      <td>1.515570</td>\n",
       "      <td>-0.864577</td>\n",
       "      <td>-0.356634</td>\n",
       "      <td>25.146000</td>\n",
       "    </tr>\n",
       "  </tbody>\n",
       "</table>\n",
       "<p>4000 rows × 1403 columns</p>\n",
       "</div>"
      ],
      "text/plain": [
       "      lp__  accept_stat__  theta      y[1]      y[2]      y[3]      y[4]  \\\n",
       "0      0.0            0.0   0.01  0.457374  1.195590 -0.617671  1.187270   \n",
       "1      0.0            0.0   0.01  0.031036  0.308259 -0.982639  0.428042   \n",
       "2      0.0            0.0   0.01 -0.876890 -0.746513 -0.007801 -1.760950   \n",
       "3      0.0            0.0   0.01 -1.512900  0.059133 -0.033874  1.345190   \n",
       "4      0.0            0.0   0.01  0.417767  0.524839 -0.100914 -0.449073   \n",
       "...    ...            ...    ...       ...       ...       ...       ...   \n",
       "3995   0.0            0.0   0.01 -1.905710  0.817135 -0.367852 -1.149100   \n",
       "3996   0.0            0.0   0.01  1.551260 -0.197275 -1.458550  1.231780   \n",
       "3997   0.0            0.0   0.01 -0.911361  0.373550 -1.236260 -0.298932   \n",
       "3998   0.0            0.0   0.01  0.905442 -1.848130  0.705368 -1.380150   \n",
       "3999   0.0            0.0   0.01  0.693582  0.112802 -0.697016  0.429651   \n",
       "\n",
       "           y[5]      y[6]      y[7]  ...   y[1391]   y[1392]   y[1393]  \\\n",
       "0      0.140905  0.666113  1.194600  ...  0.554151  1.107100 -0.537066   \n",
       "1      2.361940  1.070980 -0.360301  ...  0.372656  0.799247  0.735426   \n",
       "2      0.284137 -0.213753 -1.278690  ... -1.323450 -0.446865  0.168695   \n",
       "3      0.782924 -0.958409  1.231860  ...  0.287354  0.666450  0.105432   \n",
       "4      1.447730  0.582969 -1.863450  ...  0.089829 -0.682633 -0.571238   \n",
       "...         ...       ...       ...  ...       ...       ...       ...   \n",
       "3995  19.216400 -1.764550 -0.591775  ... -0.349898 -0.863672  1.042900   \n",
       "3996   0.168142 -1.201350 -0.396464  ...  0.128358  0.943645 -0.044036   \n",
       "3997   0.928281  0.014581 -0.718629  ... -1.138830 -1.010560 -1.666100   \n",
       "3998   0.004391  0.534757 -1.641010  ... -1.802950 -0.975383 -1.667150   \n",
       "3999   0.679032  1.330750  1.015820  ... -1.325860  0.324587  0.416858   \n",
       "\n",
       "       y[1394]   y[1395]   y[1396]   y[1397]   y[1398]   y[1399]    y[1400]  \n",
       "0    -1.213030  1.352730 -0.244134  1.377400 -1.476650 -0.559452  -0.510922  \n",
       "1     0.037210  0.862381 -1.785240 -0.996739  1.767830  1.316240  -0.564766  \n",
       "2    -0.272287 -0.485609 -1.897360  0.041009  0.811071 -0.514891   0.304582  \n",
       "3    -1.028670 -0.058062 -1.858770  0.436092  0.377191  0.876868  -0.711960  \n",
       "4    -0.664258  1.035500  0.236717 -1.291750  1.326270  0.983260   1.011000  \n",
       "...        ...       ...       ...       ...       ...       ...        ...  \n",
       "3995  2.378990  0.323097  0.397361  0.810809  0.407918 -0.832658   0.130961  \n",
       "3996  1.258460 -0.218365  1.908280  0.829587  0.745512 -1.133200   1.731900  \n",
       "3997  0.116412 -0.023228  0.450603 -0.126397  0.623287  0.352314   0.160664  \n",
       "3998  2.199280  0.581211  1.488380 -0.662498  1.318240  0.158282  -1.880670  \n",
       "3999  0.257875  0.096937 -0.792107  1.515570 -0.864577 -0.356634  25.146000  \n",
       "\n",
       "[4000 rows x 1403 columns]"
      ]
     },
     "execution_count": 19,
     "metadata": {},
     "output_type": "execute_result"
    }
   ],
   "source": [
    "x1 = result_code.draws_pd()\n",
    "x1"
   ]
  },
  {
   "cell_type": "code",
   "execution_count": 20,
   "metadata": {},
   "outputs": [
    {
     "data": {
      "text/plain": [
       "y[1]       0.111524\n",
       "y[2]       0.119009\n",
       "y[3]       0.091165\n",
       "y[4]       0.079479\n",
       "y[5]       0.129968\n",
       "             ...   \n",
       "y[1396]    0.058480\n",
       "y[1397]    0.106723\n",
       "y[1398]    0.028017\n",
       "y[1399]    0.036152\n",
       "y[1400]    0.153208\n",
       "Length: 1400, dtype: float64"
      ]
     },
     "execution_count": 20,
     "metadata": {},
     "output_type": "execute_result"
    }
   ],
   "source": [
    "y1 = x1.iloc[:, 3:]\n",
    "y1_mean = y1.mean()\n",
    "y1_mean"
   ]
  },
  {
   "cell_type": "code",
   "execution_count": 21,
   "metadata": {},
   "outputs": [
    {
     "data": {
      "text/html": [
       "<div>\n",
       "<style scoped>\n",
       "    .dataframe tbody tr th:only-of-type {\n",
       "        vertical-align: middle;\n",
       "    }\n",
       "\n",
       "    .dataframe tbody tr th {\n",
       "        vertical-align: top;\n",
       "    }\n",
       "\n",
       "    .dataframe thead th {\n",
       "        text-align: right;\n",
       "    }\n",
       "</style>\n",
       "<table border=\"1\" class=\"dataframe\">\n",
       "  <thead>\n",
       "    <tr style=\"text-align: right;\">\n",
       "      <th></th>\n",
       "      <th>lp__</th>\n",
       "      <th>accept_stat__</th>\n",
       "      <th>X[1,1]</th>\n",
       "      <th>X[2,1]</th>\n",
       "      <th>X[3,1]</th>\n",
       "      <th>X[4,1]</th>\n",
       "      <th>X[5,1]</th>\n",
       "      <th>X[6,1]</th>\n",
       "      <th>X[7,1]</th>\n",
       "      <th>X[8,1]</th>\n",
       "      <th>...</th>\n",
       "      <th>y[1391]</th>\n",
       "      <th>y[1392]</th>\n",
       "      <th>y[1393]</th>\n",
       "      <th>y[1394]</th>\n",
       "      <th>y[1395]</th>\n",
       "      <th>y[1396]</th>\n",
       "      <th>y[1397]</th>\n",
       "      <th>y[1398]</th>\n",
       "      <th>y[1399]</th>\n",
       "      <th>y[1400]</th>\n",
       "    </tr>\n",
       "  </thead>\n",
       "  <tbody>\n",
       "    <tr>\n",
       "      <th>0</th>\n",
       "      <td>0.0</td>\n",
       "      <td>0.0</td>\n",
       "      <td>0.912612</td>\n",
       "      <td>-1.342280</td>\n",
       "      <td>0.355510</td>\n",
       "      <td>-1.652920</td>\n",
       "      <td>-0.382316</td>\n",
       "      <td>-1.206810</td>\n",
       "      <td>0.334372</td>\n",
       "      <td>1.239520</td>\n",
       "      <td>...</td>\n",
       "      <td>1.772020</td>\n",
       "      <td>-3.486900</td>\n",
       "      <td>-0.951379</td>\n",
       "      <td>-0.037570</td>\n",
       "      <td>1.674320</td>\n",
       "      <td>2.260950</td>\n",
       "      <td>-2.525250</td>\n",
       "      <td>2.120450</td>\n",
       "      <td>-4.235220</td>\n",
       "      <td>2.650870</td>\n",
       "    </tr>\n",
       "    <tr>\n",
       "      <th>1</th>\n",
       "      <td>0.0</td>\n",
       "      <td>0.0</td>\n",
       "      <td>-1.230750</td>\n",
       "      <td>1.099810</td>\n",
       "      <td>-1.521790</td>\n",
       "      <td>-0.815685</td>\n",
       "      <td>1.949010</td>\n",
       "      <td>2.033390</td>\n",
       "      <td>-1.213260</td>\n",
       "      <td>-2.061750</td>\n",
       "      <td>...</td>\n",
       "      <td>0.052182</td>\n",
       "      <td>0.246500</td>\n",
       "      <td>-3.082880</td>\n",
       "      <td>-6.720930</td>\n",
       "      <td>0.617675</td>\n",
       "      <td>-1.926640</td>\n",
       "      <td>-4.555100</td>\n",
       "      <td>1.720740</td>\n",
       "      <td>-0.276161</td>\n",
       "      <td>-3.462630</td>\n",
       "    </tr>\n",
       "    <tr>\n",
       "      <th>2</th>\n",
       "      <td>0.0</td>\n",
       "      <td>0.0</td>\n",
       "      <td>0.775941</td>\n",
       "      <td>0.057703</td>\n",
       "      <td>0.423970</td>\n",
       "      <td>0.137913</td>\n",
       "      <td>-0.025564</td>\n",
       "      <td>-0.348987</td>\n",
       "      <td>-0.734813</td>\n",
       "      <td>-0.082614</td>\n",
       "      <td>...</td>\n",
       "      <td>-5.261090</td>\n",
       "      <td>0.410073</td>\n",
       "      <td>-0.281612</td>\n",
       "      <td>-1.610790</td>\n",
       "      <td>-2.358430</td>\n",
       "      <td>-2.739780</td>\n",
       "      <td>-0.510149</td>\n",
       "      <td>2.282330</td>\n",
       "      <td>-0.272405</td>\n",
       "      <td>3.780800</td>\n",
       "    </tr>\n",
       "    <tr>\n",
       "      <th>3</th>\n",
       "      <td>0.0</td>\n",
       "      <td>0.0</td>\n",
       "      <td>1.756560</td>\n",
       "      <td>-0.895876</td>\n",
       "      <td>0.168934</td>\n",
       "      <td>-0.826732</td>\n",
       "      <td>1.302850</td>\n",
       "      <td>0.142449</td>\n",
       "      <td>0.579291</td>\n",
       "      <td>-1.424620</td>\n",
       "      <td>...</td>\n",
       "      <td>0.964138</td>\n",
       "      <td>-0.311504</td>\n",
       "      <td>-3.465700</td>\n",
       "      <td>-0.950866</td>\n",
       "      <td>3.809790</td>\n",
       "      <td>-6.800320</td>\n",
       "      <td>3.118730</td>\n",
       "      <td>0.728780</td>\n",
       "      <td>-0.061029</td>\n",
       "      <td>-0.266410</td>\n",
       "    </tr>\n",
       "    <tr>\n",
       "      <th>4</th>\n",
       "      <td>0.0</td>\n",
       "      <td>0.0</td>\n",
       "      <td>1.046570</td>\n",
       "      <td>0.720601</td>\n",
       "      <td>1.234400</td>\n",
       "      <td>0.903753</td>\n",
       "      <td>-1.785530</td>\n",
       "      <td>1.024070</td>\n",
       "      <td>-0.791753</td>\n",
       "      <td>1.173520</td>\n",
       "      <td>...</td>\n",
       "      <td>4.116150</td>\n",
       "      <td>-4.609340</td>\n",
       "      <td>1.702490</td>\n",
       "      <td>4.069800</td>\n",
       "      <td>-1.686300</td>\n",
       "      <td>0.578027</td>\n",
       "      <td>1.172690</td>\n",
       "      <td>-2.595240</td>\n",
       "      <td>0.166270</td>\n",
       "      <td>4.689530</td>\n",
       "    </tr>\n",
       "    <tr>\n",
       "      <th>...</th>\n",
       "      <td>...</td>\n",
       "      <td>...</td>\n",
       "      <td>...</td>\n",
       "      <td>...</td>\n",
       "      <td>...</td>\n",
       "      <td>...</td>\n",
       "      <td>...</td>\n",
       "      <td>...</td>\n",
       "      <td>...</td>\n",
       "      <td>...</td>\n",
       "      <td>...</td>\n",
       "      <td>...</td>\n",
       "      <td>...</td>\n",
       "      <td>...</td>\n",
       "      <td>...</td>\n",
       "      <td>...</td>\n",
       "      <td>...</td>\n",
       "      <td>...</td>\n",
       "      <td>...</td>\n",
       "      <td>...</td>\n",
       "      <td>...</td>\n",
       "    </tr>\n",
       "    <tr>\n",
       "      <th>3995</th>\n",
       "      <td>0.0</td>\n",
       "      <td>0.0</td>\n",
       "      <td>3.779700</td>\n",
       "      <td>-0.985359</td>\n",
       "      <td>-0.721369</td>\n",
       "      <td>0.762585</td>\n",
       "      <td>-1.103350</td>\n",
       "      <td>0.916401</td>\n",
       "      <td>0.284103</td>\n",
       "      <td>-1.022600</td>\n",
       "      <td>...</td>\n",
       "      <td>2.597470</td>\n",
       "      <td>2.006600</td>\n",
       "      <td>6.113180</td>\n",
       "      <td>-0.142739</td>\n",
       "      <td>2.033480</td>\n",
       "      <td>-3.395130</td>\n",
       "      <td>-2.839210</td>\n",
       "      <td>-0.757751</td>\n",
       "      <td>-1.758830</td>\n",
       "      <td>3.225580</td>\n",
       "    </tr>\n",
       "    <tr>\n",
       "      <th>3996</th>\n",
       "      <td>0.0</td>\n",
       "      <td>0.0</td>\n",
       "      <td>-0.565581</td>\n",
       "      <td>-0.647526</td>\n",
       "      <td>-1.255420</td>\n",
       "      <td>-2.551570</td>\n",
       "      <td>-0.827860</td>\n",
       "      <td>-0.682742</td>\n",
       "      <td>-0.817526</td>\n",
       "      <td>-0.841434</td>\n",
       "      <td>...</td>\n",
       "      <td>-2.680180</td>\n",
       "      <td>3.172750</td>\n",
       "      <td>-0.109801</td>\n",
       "      <td>-3.019870</td>\n",
       "      <td>2.430040</td>\n",
       "      <td>1.398830</td>\n",
       "      <td>0.090952</td>\n",
       "      <td>0.946665</td>\n",
       "      <td>3.964580</td>\n",
       "      <td>-0.751288</td>\n",
       "    </tr>\n",
       "    <tr>\n",
       "      <th>3997</th>\n",
       "      <td>0.0</td>\n",
       "      <td>0.0</td>\n",
       "      <td>1.203950</td>\n",
       "      <td>-0.692406</td>\n",
       "      <td>1.007080</td>\n",
       "      <td>0.722915</td>\n",
       "      <td>0.039327</td>\n",
       "      <td>0.339418</td>\n",
       "      <td>-1.246840</td>\n",
       "      <td>-0.703668</td>\n",
       "      <td>...</td>\n",
       "      <td>-0.401594</td>\n",
       "      <td>1.015040</td>\n",
       "      <td>-0.330104</td>\n",
       "      <td>-1.478870</td>\n",
       "      <td>0.251804</td>\n",
       "      <td>1.295540</td>\n",
       "      <td>0.316497</td>\n",
       "      <td>-0.192593</td>\n",
       "      <td>2.291490</td>\n",
       "      <td>-2.316060</td>\n",
       "    </tr>\n",
       "    <tr>\n",
       "      <th>3998</th>\n",
       "      <td>0.0</td>\n",
       "      <td>0.0</td>\n",
       "      <td>0.918028</td>\n",
       "      <td>-1.765040</td>\n",
       "      <td>-1.903980</td>\n",
       "      <td>1.322870</td>\n",
       "      <td>0.971448</td>\n",
       "      <td>0.678206</td>\n",
       "      <td>0.853380</td>\n",
       "      <td>-0.254166</td>\n",
       "      <td>...</td>\n",
       "      <td>4.216780</td>\n",
       "      <td>-1.590870</td>\n",
       "      <td>0.943774</td>\n",
       "      <td>2.646960</td>\n",
       "      <td>2.838640</td>\n",
       "      <td>0.666491</td>\n",
       "      <td>0.543495</td>\n",
       "      <td>1.164010</td>\n",
       "      <td>1.185580</td>\n",
       "      <td>-5.101110</td>\n",
       "    </tr>\n",
       "    <tr>\n",
       "      <th>3999</th>\n",
       "      <td>0.0</td>\n",
       "      <td>0.0</td>\n",
       "      <td>0.749587</td>\n",
       "      <td>1.266580</td>\n",
       "      <td>-0.370684</td>\n",
       "      <td>-0.918789</td>\n",
       "      <td>-0.755424</td>\n",
       "      <td>-0.231052</td>\n",
       "      <td>-0.013346</td>\n",
       "      <td>1.107200</td>\n",
       "      <td>...</td>\n",
       "      <td>4.825390</td>\n",
       "      <td>-0.668835</td>\n",
       "      <td>0.937411</td>\n",
       "      <td>-3.816770</td>\n",
       "      <td>-1.951590</td>\n",
       "      <td>1.769600</td>\n",
       "      <td>-2.792080</td>\n",
       "      <td>-3.164180</td>\n",
       "      <td>2.610190</td>\n",
       "      <td>-1.469410</td>\n",
       "    </tr>\n",
       "  </tbody>\n",
       "</table>\n",
       "<p>4000 rows × 5605 columns</p>\n",
       "</div>"
      ],
      "text/plain": [
       "      lp__  accept_stat__    X[1,1]    X[2,1]    X[3,1]    X[4,1]    X[5,1]  \\\n",
       "0      0.0            0.0  0.912612 -1.342280  0.355510 -1.652920 -0.382316   \n",
       "1      0.0            0.0 -1.230750  1.099810 -1.521790 -0.815685  1.949010   \n",
       "2      0.0            0.0  0.775941  0.057703  0.423970  0.137913 -0.025564   \n",
       "3      0.0            0.0  1.756560 -0.895876  0.168934 -0.826732  1.302850   \n",
       "4      0.0            0.0  1.046570  0.720601  1.234400  0.903753 -1.785530   \n",
       "...    ...            ...       ...       ...       ...       ...       ...   \n",
       "3995   0.0            0.0  3.779700 -0.985359 -0.721369  0.762585 -1.103350   \n",
       "3996   0.0            0.0 -0.565581 -0.647526 -1.255420 -2.551570 -0.827860   \n",
       "3997   0.0            0.0  1.203950 -0.692406  1.007080  0.722915  0.039327   \n",
       "3998   0.0            0.0  0.918028 -1.765040 -1.903980  1.322870  0.971448   \n",
       "3999   0.0            0.0  0.749587  1.266580 -0.370684 -0.918789 -0.755424   \n",
       "\n",
       "        X[6,1]    X[7,1]    X[8,1]  ...   y[1391]   y[1392]   y[1393]  \\\n",
       "0    -1.206810  0.334372  1.239520  ...  1.772020 -3.486900 -0.951379   \n",
       "1     2.033390 -1.213260 -2.061750  ...  0.052182  0.246500 -3.082880   \n",
       "2    -0.348987 -0.734813 -0.082614  ... -5.261090  0.410073 -0.281612   \n",
       "3     0.142449  0.579291 -1.424620  ...  0.964138 -0.311504 -3.465700   \n",
       "4     1.024070 -0.791753  1.173520  ...  4.116150 -4.609340  1.702490   \n",
       "...        ...       ...       ...  ...       ...       ...       ...   \n",
       "3995  0.916401  0.284103 -1.022600  ...  2.597470  2.006600  6.113180   \n",
       "3996 -0.682742 -0.817526 -0.841434  ... -2.680180  3.172750 -0.109801   \n",
       "3997  0.339418 -1.246840 -0.703668  ... -0.401594  1.015040 -0.330104   \n",
       "3998  0.678206  0.853380 -0.254166  ...  4.216780 -1.590870  0.943774   \n",
       "3999 -0.231052 -0.013346  1.107200  ...  4.825390 -0.668835  0.937411   \n",
       "\n",
       "       y[1394]   y[1395]   y[1396]   y[1397]   y[1398]   y[1399]   y[1400]  \n",
       "0    -0.037570  1.674320  2.260950 -2.525250  2.120450 -4.235220  2.650870  \n",
       "1    -6.720930  0.617675 -1.926640 -4.555100  1.720740 -0.276161 -3.462630  \n",
       "2    -1.610790 -2.358430 -2.739780 -0.510149  2.282330 -0.272405  3.780800  \n",
       "3    -0.950866  3.809790 -6.800320  3.118730  0.728780 -0.061029 -0.266410  \n",
       "4     4.069800 -1.686300  0.578027  1.172690 -2.595240  0.166270  4.689530  \n",
       "...        ...       ...       ...       ...       ...       ...       ...  \n",
       "3995 -0.142739  2.033480 -3.395130 -2.839210 -0.757751 -1.758830  3.225580  \n",
       "3996 -3.019870  2.430040  1.398830  0.090952  0.946665  3.964580 -0.751288  \n",
       "3997 -1.478870  0.251804  1.295540  0.316497 -0.192593  2.291490 -2.316060  \n",
       "3998  2.646960  2.838640  0.666491  0.543495  1.164010  1.185580 -5.101110  \n",
       "3999 -3.816770 -1.951590  1.769600 -2.792080 -3.164180  2.610190 -1.469410  \n",
       "\n",
       "[4000 rows x 5605 columns]"
      ]
     },
     "execution_count": 21,
     "metadata": {},
     "output_type": "execute_result"
    }
   ],
   "source": [
    "x2 = result_code_2.draws_pd()\n",
    "x2"
   ]
  },
  {
   "cell_type": "code",
   "execution_count": 22,
   "metadata": {},
   "outputs": [
    {
     "data": {
      "text/html": [
       "<div>\n",
       "<style scoped>\n",
       "    .dataframe tbody tr th:only-of-type {\n",
       "        vertical-align: middle;\n",
       "    }\n",
       "\n",
       "    .dataframe tbody tr th {\n",
       "        vertical-align: top;\n",
       "    }\n",
       "\n",
       "    .dataframe thead th {\n",
       "        text-align: right;\n",
       "    }\n",
       "</style>\n",
       "<table border=\"1\" class=\"dataframe\">\n",
       "  <thead>\n",
       "    <tr style=\"text-align: right;\">\n",
       "      <th></th>\n",
       "      <th>X[1204,3]</th>\n",
       "      <th>X[1205,3]</th>\n",
       "      <th>X[1206,3]</th>\n",
       "      <th>X[1207,3]</th>\n",
       "      <th>X[1208,3]</th>\n",
       "      <th>X[1209,3]</th>\n",
       "      <th>X[1210,3]</th>\n",
       "      <th>X[1211,3]</th>\n",
       "      <th>X[1212,3]</th>\n",
       "      <th>X[1213,3]</th>\n",
       "      <th>...</th>\n",
       "      <th>y[1391]</th>\n",
       "      <th>y[1392]</th>\n",
       "      <th>y[1393]</th>\n",
       "      <th>y[1394]</th>\n",
       "      <th>y[1395]</th>\n",
       "      <th>y[1396]</th>\n",
       "      <th>y[1397]</th>\n",
       "      <th>y[1398]</th>\n",
       "      <th>y[1399]</th>\n",
       "      <th>y[1400]</th>\n",
       "    </tr>\n",
       "  </thead>\n",
       "  <tbody>\n",
       "    <tr>\n",
       "      <th>0</th>\n",
       "      <td>-0.634013</td>\n",
       "      <td>0.538548</td>\n",
       "      <td>-2.782220</td>\n",
       "      <td>0.118124</td>\n",
       "      <td>-0.699525</td>\n",
       "      <td>0.059431</td>\n",
       "      <td>1.663510</td>\n",
       "      <td>-1.310510</td>\n",
       "      <td>-0.328652</td>\n",
       "      <td>-0.478439</td>\n",
       "      <td>...</td>\n",
       "      <td>1.772020</td>\n",
       "      <td>-3.486900</td>\n",
       "      <td>-0.951379</td>\n",
       "      <td>-0.037570</td>\n",
       "      <td>1.674320</td>\n",
       "      <td>2.260950</td>\n",
       "      <td>-2.525250</td>\n",
       "      <td>2.120450</td>\n",
       "      <td>-4.235220</td>\n",
       "      <td>2.650870</td>\n",
       "    </tr>\n",
       "    <tr>\n",
       "      <th>1</th>\n",
       "      <td>0.882385</td>\n",
       "      <td>0.546475</td>\n",
       "      <td>-1.694120</td>\n",
       "      <td>-0.350548</td>\n",
       "      <td>-1.900680</td>\n",
       "      <td>-1.114920</td>\n",
       "      <td>0.940566</td>\n",
       "      <td>-1.998420</td>\n",
       "      <td>-1.102290</td>\n",
       "      <td>1.266870</td>\n",
       "      <td>...</td>\n",
       "      <td>0.052182</td>\n",
       "      <td>0.246500</td>\n",
       "      <td>-3.082880</td>\n",
       "      <td>-6.720930</td>\n",
       "      <td>0.617675</td>\n",
       "      <td>-1.926640</td>\n",
       "      <td>-4.555100</td>\n",
       "      <td>1.720740</td>\n",
       "      <td>-0.276161</td>\n",
       "      <td>-3.462630</td>\n",
       "    </tr>\n",
       "    <tr>\n",
       "      <th>2</th>\n",
       "      <td>0.704552</td>\n",
       "      <td>3.219850</td>\n",
       "      <td>0.726770</td>\n",
       "      <td>0.091802</td>\n",
       "      <td>1.088230</td>\n",
       "      <td>-1.632070</td>\n",
       "      <td>-1.057400</td>\n",
       "      <td>0.690672</td>\n",
       "      <td>0.962733</td>\n",
       "      <td>-0.430509</td>\n",
       "      <td>...</td>\n",
       "      <td>-5.261090</td>\n",
       "      <td>0.410073</td>\n",
       "      <td>-0.281612</td>\n",
       "      <td>-1.610790</td>\n",
       "      <td>-2.358430</td>\n",
       "      <td>-2.739780</td>\n",
       "      <td>-0.510149</td>\n",
       "      <td>2.282330</td>\n",
       "      <td>-0.272405</td>\n",
       "      <td>3.780800</td>\n",
       "    </tr>\n",
       "    <tr>\n",
       "      <th>3</th>\n",
       "      <td>-0.490222</td>\n",
       "      <td>0.506877</td>\n",
       "      <td>-0.731649</td>\n",
       "      <td>2.645190</td>\n",
       "      <td>-0.249253</td>\n",
       "      <td>-1.178470</td>\n",
       "      <td>-0.305611</td>\n",
       "      <td>1.291150</td>\n",
       "      <td>-0.798788</td>\n",
       "      <td>0.441114</td>\n",
       "      <td>...</td>\n",
       "      <td>0.964138</td>\n",
       "      <td>-0.311504</td>\n",
       "      <td>-3.465700</td>\n",
       "      <td>-0.950866</td>\n",
       "      <td>3.809790</td>\n",
       "      <td>-6.800320</td>\n",
       "      <td>3.118730</td>\n",
       "      <td>0.728780</td>\n",
       "      <td>-0.061029</td>\n",
       "      <td>-0.266410</td>\n",
       "    </tr>\n",
       "    <tr>\n",
       "      <th>4</th>\n",
       "      <td>0.409776</td>\n",
       "      <td>0.271099</td>\n",
       "      <td>0.573412</td>\n",
       "      <td>0.223182</td>\n",
       "      <td>-0.398577</td>\n",
       "      <td>0.918007</td>\n",
       "      <td>0.119616</td>\n",
       "      <td>-1.633990</td>\n",
       "      <td>-0.118392</td>\n",
       "      <td>1.272430</td>\n",
       "      <td>...</td>\n",
       "      <td>4.116150</td>\n",
       "      <td>-4.609340</td>\n",
       "      <td>1.702490</td>\n",
       "      <td>4.069800</td>\n",
       "      <td>-1.686300</td>\n",
       "      <td>0.578027</td>\n",
       "      <td>1.172690</td>\n",
       "      <td>-2.595240</td>\n",
       "      <td>0.166270</td>\n",
       "      <td>4.689530</td>\n",
       "    </tr>\n",
       "    <tr>\n",
       "      <th>...</th>\n",
       "      <td>...</td>\n",
       "      <td>...</td>\n",
       "      <td>...</td>\n",
       "      <td>...</td>\n",
       "      <td>...</td>\n",
       "      <td>...</td>\n",
       "      <td>...</td>\n",
       "      <td>...</td>\n",
       "      <td>...</td>\n",
       "      <td>...</td>\n",
       "      <td>...</td>\n",
       "      <td>...</td>\n",
       "      <td>...</td>\n",
       "      <td>...</td>\n",
       "      <td>...</td>\n",
       "      <td>...</td>\n",
       "      <td>...</td>\n",
       "      <td>...</td>\n",
       "      <td>...</td>\n",
       "      <td>...</td>\n",
       "      <td>...</td>\n",
       "    </tr>\n",
       "    <tr>\n",
       "      <th>3995</th>\n",
       "      <td>-0.009997</td>\n",
       "      <td>-0.857691</td>\n",
       "      <td>1.141910</td>\n",
       "      <td>1.294800</td>\n",
       "      <td>0.801169</td>\n",
       "      <td>-0.411975</td>\n",
       "      <td>-0.023303</td>\n",
       "      <td>-0.762311</td>\n",
       "      <td>1.371450</td>\n",
       "      <td>-0.061816</td>\n",
       "      <td>...</td>\n",
       "      <td>2.597470</td>\n",
       "      <td>2.006600</td>\n",
       "      <td>6.113180</td>\n",
       "      <td>-0.142739</td>\n",
       "      <td>2.033480</td>\n",
       "      <td>-3.395130</td>\n",
       "      <td>-2.839210</td>\n",
       "      <td>-0.757751</td>\n",
       "      <td>-1.758830</td>\n",
       "      <td>3.225580</td>\n",
       "    </tr>\n",
       "    <tr>\n",
       "      <th>3996</th>\n",
       "      <td>-2.238080</td>\n",
       "      <td>-0.686111</td>\n",
       "      <td>-0.214715</td>\n",
       "      <td>0.176830</td>\n",
       "      <td>0.422148</td>\n",
       "      <td>-0.086485</td>\n",
       "      <td>-0.583425</td>\n",
       "      <td>1.617390</td>\n",
       "      <td>0.494628</td>\n",
       "      <td>0.881674</td>\n",
       "      <td>...</td>\n",
       "      <td>-2.680180</td>\n",
       "      <td>3.172750</td>\n",
       "      <td>-0.109801</td>\n",
       "      <td>-3.019870</td>\n",
       "      <td>2.430040</td>\n",
       "      <td>1.398830</td>\n",
       "      <td>0.090952</td>\n",
       "      <td>0.946665</td>\n",
       "      <td>3.964580</td>\n",
       "      <td>-0.751288</td>\n",
       "    </tr>\n",
       "    <tr>\n",
       "      <th>3997</th>\n",
       "      <td>1.402730</td>\n",
       "      <td>1.387400</td>\n",
       "      <td>-0.263235</td>\n",
       "      <td>-0.808241</td>\n",
       "      <td>-0.208002</td>\n",
       "      <td>-2.397090</td>\n",
       "      <td>-0.381243</td>\n",
       "      <td>1.833140</td>\n",
       "      <td>-0.474478</td>\n",
       "      <td>0.021907</td>\n",
       "      <td>...</td>\n",
       "      <td>-0.401594</td>\n",
       "      <td>1.015040</td>\n",
       "      <td>-0.330104</td>\n",
       "      <td>-1.478870</td>\n",
       "      <td>0.251804</td>\n",
       "      <td>1.295540</td>\n",
       "      <td>0.316497</td>\n",
       "      <td>-0.192593</td>\n",
       "      <td>2.291490</td>\n",
       "      <td>-2.316060</td>\n",
       "    </tr>\n",
       "    <tr>\n",
       "      <th>3998</th>\n",
       "      <td>-1.321120</td>\n",
       "      <td>0.585586</td>\n",
       "      <td>-1.694710</td>\n",
       "      <td>-0.109758</td>\n",
       "      <td>-1.118590</td>\n",
       "      <td>-0.749638</td>\n",
       "      <td>0.066613</td>\n",
       "      <td>1.489600</td>\n",
       "      <td>1.473910</td>\n",
       "      <td>-0.727162</td>\n",
       "      <td>...</td>\n",
       "      <td>4.216780</td>\n",
       "      <td>-1.590870</td>\n",
       "      <td>0.943774</td>\n",
       "      <td>2.646960</td>\n",
       "      <td>2.838640</td>\n",
       "      <td>0.666491</td>\n",
       "      <td>0.543495</td>\n",
       "      <td>1.164010</td>\n",
       "      <td>1.185580</td>\n",
       "      <td>-5.101110</td>\n",
       "    </tr>\n",
       "    <tr>\n",
       "      <th>3999</th>\n",
       "      <td>-1.912000</td>\n",
       "      <td>-0.303991</td>\n",
       "      <td>2.150110</td>\n",
       "      <td>-0.311796</td>\n",
       "      <td>-1.024330</td>\n",
       "      <td>-0.431158</td>\n",
       "      <td>1.987340</td>\n",
       "      <td>-0.963587</td>\n",
       "      <td>-0.698364</td>\n",
       "      <td>-0.132421</td>\n",
       "      <td>...</td>\n",
       "      <td>4.825390</td>\n",
       "      <td>-0.668835</td>\n",
       "      <td>0.937411</td>\n",
       "      <td>-3.816770</td>\n",
       "      <td>-1.951590</td>\n",
       "      <td>1.769600</td>\n",
       "      <td>-2.792080</td>\n",
       "      <td>-3.164180</td>\n",
       "      <td>2.610190</td>\n",
       "      <td>-1.469410</td>\n",
       "    </tr>\n",
       "  </tbody>\n",
       "</table>\n",
       "<p>4000 rows × 1600 columns</p>\n",
       "</div>"
      ],
      "text/plain": [
       "      X[1204,3]  X[1205,3]  X[1206,3]  X[1207,3]  X[1208,3]  X[1209,3]  \\\n",
       "0     -0.634013   0.538548  -2.782220   0.118124  -0.699525   0.059431   \n",
       "1      0.882385   0.546475  -1.694120  -0.350548  -1.900680  -1.114920   \n",
       "2      0.704552   3.219850   0.726770   0.091802   1.088230  -1.632070   \n",
       "3     -0.490222   0.506877  -0.731649   2.645190  -0.249253  -1.178470   \n",
       "4      0.409776   0.271099   0.573412   0.223182  -0.398577   0.918007   \n",
       "...         ...        ...        ...        ...        ...        ...   \n",
       "3995  -0.009997  -0.857691   1.141910   1.294800   0.801169  -0.411975   \n",
       "3996  -2.238080  -0.686111  -0.214715   0.176830   0.422148  -0.086485   \n",
       "3997   1.402730   1.387400  -0.263235  -0.808241  -0.208002  -2.397090   \n",
       "3998  -1.321120   0.585586  -1.694710  -0.109758  -1.118590  -0.749638   \n",
       "3999  -1.912000  -0.303991   2.150110  -0.311796  -1.024330  -0.431158   \n",
       "\n",
       "      X[1210,3]  X[1211,3]  X[1212,3]  X[1213,3]  ...   y[1391]   y[1392]  \\\n",
       "0      1.663510  -1.310510  -0.328652  -0.478439  ...  1.772020 -3.486900   \n",
       "1      0.940566  -1.998420  -1.102290   1.266870  ...  0.052182  0.246500   \n",
       "2     -1.057400   0.690672   0.962733  -0.430509  ... -5.261090  0.410073   \n",
       "3     -0.305611   1.291150  -0.798788   0.441114  ...  0.964138 -0.311504   \n",
       "4      0.119616  -1.633990  -0.118392   1.272430  ...  4.116150 -4.609340   \n",
       "...         ...        ...        ...        ...  ...       ...       ...   \n",
       "3995  -0.023303  -0.762311   1.371450  -0.061816  ...  2.597470  2.006600   \n",
       "3996  -0.583425   1.617390   0.494628   0.881674  ... -2.680180  3.172750   \n",
       "3997  -0.381243   1.833140  -0.474478   0.021907  ... -0.401594  1.015040   \n",
       "3998   0.066613   1.489600   1.473910  -0.727162  ...  4.216780 -1.590870   \n",
       "3999   1.987340  -0.963587  -0.698364  -0.132421  ...  4.825390 -0.668835   \n",
       "\n",
       "       y[1393]   y[1394]   y[1395]   y[1396]   y[1397]   y[1398]   y[1399]  \\\n",
       "0    -0.951379 -0.037570  1.674320  2.260950 -2.525250  2.120450 -4.235220   \n",
       "1    -3.082880 -6.720930  0.617675 -1.926640 -4.555100  1.720740 -0.276161   \n",
       "2    -0.281612 -1.610790 -2.358430 -2.739780 -0.510149  2.282330 -0.272405   \n",
       "3    -3.465700 -0.950866  3.809790 -6.800320  3.118730  0.728780 -0.061029   \n",
       "4     1.702490  4.069800 -1.686300  0.578027  1.172690 -2.595240  0.166270   \n",
       "...        ...       ...       ...       ...       ...       ...       ...   \n",
       "3995  6.113180 -0.142739  2.033480 -3.395130 -2.839210 -0.757751 -1.758830   \n",
       "3996 -0.109801 -3.019870  2.430040  1.398830  0.090952  0.946665  3.964580   \n",
       "3997 -0.330104 -1.478870  0.251804  1.295540  0.316497 -0.192593  2.291490   \n",
       "3998  0.943774  2.646960  2.838640  0.666491  0.543495  1.164010  1.185580   \n",
       "3999  0.937411 -3.816770 -1.951590  1.769600 -2.792080 -3.164180  2.610190   \n",
       "\n",
       "       y[1400]  \n",
       "0     2.650870  \n",
       "1    -3.462630  \n",
       "2     3.780800  \n",
       "3    -0.266410  \n",
       "4     4.689530  \n",
       "...        ...  \n",
       "3995  3.225580  \n",
       "3996 -0.751288  \n",
       "3997 -2.316060  \n",
       "3998 -5.101110  \n",
       "3999 -1.469410  \n",
       "\n",
       "[4000 rows x 1600 columns]"
      ]
     },
     "execution_count": 22,
     "metadata": {},
     "output_type": "execute_result"
    }
   ],
   "source": [
    "y2 = x2.iloc[:,-1600:]\n",
    "y2"
   ]
  },
  {
   "cell_type": "code",
   "execution_count": 23,
   "metadata": {},
   "outputs": [
    {
     "data": {
      "text/plain": [
       "X[1204,3]    0.001449\n",
       "X[1205,3]    0.007449\n",
       "X[1206,3]   -0.011705\n",
       "X[1207,3]   -0.036871\n",
       "X[1208,3]   -0.010992\n",
       "               ...   \n",
       "y[1396]     -0.015120\n",
       "y[1397]      0.006581\n",
       "y[1398]     -0.027189\n",
       "y[1399]      0.012273\n",
       "y[1400]      0.006350\n",
       "Length: 1600, dtype: float64"
      ]
     },
     "execution_count": 23,
     "metadata": {},
     "output_type": "execute_result"
    }
   ],
   "source": [
    "y2_mean = y2.mean(axis = 0)\n",
    "y2_mean"
   ]
  },
  {
   "cell_type": "markdown",
   "metadata": {},
   "source": [
    "#### **Task 2: Optimizing the hyperparameters**"
   ]
  },
  {
   "cell_type": "markdown",
   "metadata": {},
   "source": [
    "1. Compile both models."
   ]
  },
  {
   "cell_type": "markdown",
   "metadata": {},
   "source": [
    "2. Fit both models."
   ]
  },
  {
   "cell_type": "code",
   "execution_count": 25,
   "metadata": {},
   "outputs": [
    {
     "name": "stderr",
     "output_type": "stream",
     "text": [
      "INFO:cmdstanpy:found newer exe file, not recompiling\n",
      "INFO:cmdstanpy:CmdStan start processing\n",
      "chain 1 |\u001b[33m                                                         \u001b[0m| 00:00 Status\u001b[0m\n",
      "chain 2 |\u001b[33m                                                         \u001b[0m| 00:00 Status\u001b[0m\u001b[A\n",
      "\n",
      "chain 3 |\u001b[33m                                                         \u001b[0m| 00:00 Status\u001b[0m\u001b[A\u001b[A\n",
      "\n",
      "\n",
      "chain 4 |\u001b[33m                                                         \u001b[0m| 00:00 Status\u001b[0m\u001b[A\u001b[A\u001b[A\n",
      "chain 1 |\u001b[33m████████▋               \u001b[0m| 00:00 Iteration:  600 / 2000 [ 30%]  (Warmup)\u001b[0m\u001b[A\n",
      "\n",
      "chain 3 |\u001b[33m█████▍                  \u001b[0m| 00:00 Iteration:  300 / 2000 [ 15%]  (Warmup)\u001b[0m\u001b[A\u001b[A\n",
      "\n",
      "\n",
      "chain 4 |\u001b[33m████████▋               \u001b[0m| 00:00 Iteration:  600 / 2000 [ 30%]  (Warmup)\u001b[0m\u001b[A\u001b[A\u001b[A\n",
      "\n",
      "chain 1 |\u001b[34m████████████████      \u001b[0m| 00:00 Iteration: 1300 / 2000 [ 65%]  (Sampling)\u001b[0m\u001b[A\u001b[A\n",
      "chain 2 |\u001b[34m████████████████      \u001b[0m| 00:00 Iteration: 1300 / 2000 [ 65%]  (Sampling)\u001b[0m\u001b[A\n",
      "\n",
      "\n",
      "chain 4 |\u001b[34m████████████████      \u001b[0m| 00:00 Iteration: 1300 / 2000 [ 65%]  (Sampling)\u001b[0m\u001b[A\u001b[A\u001b[A\n",
      "\n",
      "chain 3 |\u001b[34m█████████████████     \u001b[0m| 00:01 Iteration: 1400 / 2000 [ 70%]  (Sampling)\u001b[0m\u001b[A\u001b[A\n",
      "chain 1 |\u001b[34m████████████████████  \u001b[0m| 00:01 Iteration: 1700 / 2000 [ 85%]  (Sampling)\u001b[0m\u001b[A\n",
      "\n",
      "\n",
      "chain 4 |\u001b[34m████████████████████  \u001b[0m| 00:01 Iteration: 1700 / 2000 [ 85%]  (Sampling)\u001b[0m\u001b[A\u001b[A\u001b[A\n",
      "\n",
      "chain 3 |\u001b[34m████████████████████  \u001b[0m| 00:01 Iteration: 1700 / 2000 [ 85%]  (Sampling)\u001b[0m\u001b[A\u001b[A\n",
      "\n",
      "chain 1 |\u001b[34m█████████████████████████████████████████████\u001b[0m| 00:02 Sampling completed\u001b[0m\u001b[A\u001b[A\n",
      "chain 2 |\u001b[34m█████████████████████████████████████████████\u001b[0m| 00:02 Sampling completed\u001b[0m\n",
      "chain 3 |\u001b[34m█████████████████████████████████████████████\u001b[0m| 00:02 Sampling completed\u001b[0m\n",
      "chain 4 |\u001b[34m█████████████████████████████████████████████\u001b[0m| 00:02 Sampling completed\u001b[0m"
     ]
    },
    {
     "name": "stdout",
     "output_type": "stream",
     "text": [
      "                                                                                                                                                                                                                                                                                                                                "
     ]
    },
    {
     "name": "stderr",
     "output_type": "stream",
     "text": [
      "\n",
      "INFO:cmdstanpy:CmdStan done processing.\n"
     ]
    },
    {
     "name": "stdout",
     "output_type": "stream",
     "text": [
      "\n"
     ]
    }
   ],
   "source": [
    "data_generator_code_3 = CmdStanModel(stan_file='code_3.stan')\n",
    "\n",
    "data3 = dict(N=N,\n",
    "            y=y1_mean)\n",
    "\n",
    "result_code3 = data_generator_code_3.sample(data = data3)"
   ]
  },
  {
   "cell_type": "code",
   "execution_count": 41,
   "metadata": {},
   "outputs": [
    {
     "name": "stderr",
     "output_type": "stream",
     "text": [
      "INFO:cmdstanpy:found newer exe file, not recompiling\n",
      "INFO:cmdstanpy:CmdStan start processing\n",
      "chain 1 |\u001b[33m                                                         \u001b[0m| 00:00 Status\u001b[0m\n",
      "chain 2 |\u001b[33m                                                         \u001b[0m| 00:00 Status\u001b[0m\u001b[A\n",
      "\n",
      "chain 3 |\u001b[33m                                                         \u001b[0m| 00:00 Status\u001b[0m\u001b[A\u001b[A\n",
      "\n",
      "\n",
      "chain 1 |\u001b[33m███▎                    \u001b[0m| 00:00 Iteration:  100 / 2000 [  5%]  (Warmup)\u001b[0m\u001b[A\u001b[A\u001b[A\n",
      "\n",
      "\n",
      "chain 1 |\u001b[33m██████▌                 \u001b[0m| 00:00 Iteration:  400 / 2000 [ 20%]  (Warmup)\u001b[0m\u001b[A\u001b[A\u001b[A\n",
      "\n",
      "chain 3 |\u001b[33m██▏                     \u001b[0m| 00:00 Iteration:    1 / 2000 [  0%]  (Warmup)\u001b[0m\u001b[A\u001b[A\n",
      "chain 2 |\u001b[33m██▏                     \u001b[0m| 00:00 Iteration:    1 / 2000 [  0%]  (Warmup)\u001b[0m\u001b[A\n",
      "\n",
      "\n",
      "chain 1 |\u001b[33m█████████▊              \u001b[0m| 00:00 Iteration:  700 / 2000 [ 35%]  (Warmup)\u001b[0m\u001b[A\u001b[A\u001b[A\n",
      "chain 2 |\u001b[33m███▎                    \u001b[0m| 00:00 Iteration:  100 / 2000 [  5%]  (Warmup)\u001b[0m\u001b[A\n",
      "\n",
      "\n",
      "chain 1 |\u001b[34m█████████████           \u001b[0m| 00:00 Iteration: 1000 / 2000 [ 50%]  (Warmup)\u001b[0m\u001b[A\u001b[A\u001b[A\n",
      "\n",
      "chain 3 |\u001b[33m███▎                    \u001b[0m| 00:00 Iteration:  100 / 2000 [  5%]  (Warmup)\u001b[0m\u001b[A\u001b[A\n",
      "chain 2 |\u001b[33m████▎                   \u001b[0m| 00:00 Iteration:  200 / 2000 [ 10%]  (Warmup)\u001b[0m\u001b[A\n",
      "\n",
      "\n",
      "chain 4 |\u001b[33m█████████▊              \u001b[0m| 00:00 Iteration:  700 / 2000 [ 35%]  (Warmup)\u001b[0m\u001b[A\u001b[A\u001b[A\n",
      "\n",
      "chain 3 |\u001b[33m████▎                   \u001b[0m| 00:00 Iteration:  200 / 2000 [ 10%]  (Warmup)\u001b[0m\u001b[A\u001b[A\n",
      "chain 2 |\u001b[33m█████▍                  \u001b[0m| 00:00 Iteration:  300 / 2000 [ 15%]  (Warmup)\u001b[0m\u001b[A\n",
      "\n",
      "\n",
      "chain 4 |\u001b[33m████████████            \u001b[0m| 00:00 Iteration:  900 / 2000 [ 45%]  (Warmup)\u001b[0m\u001b[A\u001b[A\u001b[A\n",
      "\n",
      "chain 3 |\u001b[33m██████▌                 \u001b[0m| 00:00 Iteration:  400 / 2000 [ 20%]  (Warmup)\u001b[0m\u001b[A\u001b[A\n",
      "chain 2 |\u001b[33m███████▋                \u001b[0m| 00:00 Iteration:  500 / 2000 [ 25%]  (Warmup)\u001b[0m\u001b[A\n",
      "\n",
      "chain 3 |\u001b[33m████████▋               \u001b[0m| 00:00 Iteration:  600 / 2000 [ 30%]  (Warmup)\u001b[0m\u001b[A\u001b[A\n",
      "chain 2 |\u001b[33m█████████▊              \u001b[0m| 00:01 Iteration:  700 / 2000 [ 35%]  (Warmup)\u001b[0m\u001b[A\n",
      "\n",
      "\n",
      "chain 4 |\u001b[34m█████████████         \u001b[0m| 00:01 Iteration: 1001 / 2000 [ 50%]  (Sampling)\u001b[0m\u001b[A\u001b[A\u001b[A\n",
      "\n",
      "chain 3 |\u001b[33m██████████▉             \u001b[0m| 00:01 Iteration:  800 / 2000 [ 40%]  (Warmup)\u001b[0m\u001b[A\u001b[A\n",
      "chain 2 |\u001b[33m████████████            \u001b[0m| 00:01 Iteration:  900 / 2000 [ 45%]  (Warmup)\u001b[0m\u001b[A\n",
      "chain 2 |\u001b[34m█████████████         \u001b[0m| 00:01 Iteration: 1001 / 2000 [ 50%]  (Sampling)\u001b[0m\u001b[A\n",
      "\n",
      "chain 1 |\u001b[34m██████████████▉       \u001b[0m| 00:01 Iteration: 1200 / 2000 [ 60%]  (Sampling)\u001b[0m\u001b[A\u001b[A\n",
      "\n",
      "\n",
      "chain 4 |\u001b[34m██████████████▉       \u001b[0m| 00:01 Iteration: 1200 / 2000 [ 60%]  (Sampling)\u001b[0m\u001b[A\u001b[A\u001b[A\n",
      "chain 2 |\u001b[34m██████████████        \u001b[0m| 00:01 Iteration: 1100 / 2000 [ 55%]  (Sampling)\u001b[0m\u001b[A\n",
      "\n",
      "\n",
      "chain 4 |\u001b[34m████████████████      \u001b[0m| 00:02 Iteration: 1300 / 2000 [ 65%]  (Sampling)\u001b[0m\u001b[A\u001b[A\u001b[A\n",
      "chain 2 |\u001b[34m██████████████▉       \u001b[0m| 00:02 Iteration: 1200 / 2000 [ 60%]  (Sampling)\u001b[0m\u001b[A\n",
      "\n",
      "chain 1 |\u001b[34m█████████████████     \u001b[0m| 00:02 Iteration: 1400 / 2000 [ 70%]  (Sampling)\u001b[0m\u001b[A\u001b[A\n",
      "\n",
      "\n",
      "chain 4 |\u001b[34m█████████████████     \u001b[0m| 00:02 Iteration: 1400 / 2000 [ 70%]  (Sampling)\u001b[0m\u001b[A\u001b[A\u001b[A\n",
      "chain 2 |\u001b[34m████████████████      \u001b[0m| 00:02 Iteration: 1300 / 2000 [ 65%]  (Sampling)\u001b[0m\u001b[A\n",
      "\n",
      "chain 3 |\u001b[34m████████████████      \u001b[0m| 00:02 Iteration: 1300 / 2000 [ 65%]  (Sampling)\u001b[0m\u001b[A\u001b[A\n",
      "\n",
      "\n",
      "chain 4 |\u001b[34m██████████████████    \u001b[0m| 00:02 Iteration: 1500 / 2000 [ 75%]  (Sampling)\u001b[0m\u001b[A\u001b[A\u001b[A\n",
      "chain 2 |\u001b[34m█████████████████     \u001b[0m| 00:02 Iteration: 1400 / 2000 [ 70%]  (Sampling)\u001b[0m\u001b[A\n",
      "\n",
      "chain 1 |\u001b[34m███████████████████   \u001b[0m| 00:02 Iteration: 1600 / 2000 [ 80%]  (Sampling)\u001b[0m\u001b[A\u001b[A\n",
      "\n",
      "\n",
      "chain 4 |\u001b[34m███████████████████   \u001b[0m| 00:03 Iteration: 1600 / 2000 [ 80%]  (Sampling)\u001b[0m\u001b[A\u001b[A\u001b[A\n",
      "chain 2 |\u001b[34m██████████████████    \u001b[0m| 00:03 Iteration: 1500 / 2000 [ 75%]  (Sampling)\u001b[0m\u001b[A\n",
      "\n",
      "chain 1 |\u001b[34m████████████████████  \u001b[0m| 00:03 Iteration: 1700 / 2000 [ 85%]  (Sampling)\u001b[0m\u001b[A\u001b[A\n",
      "chain 2 |\u001b[34m███████████████████   \u001b[0m| 00:03 Iteration: 1600 / 2000 [ 80%]  (Sampling)\u001b[0m\u001b[A\n",
      "\n",
      "\n",
      "chain 4 |\u001b[34m████████████████████  \u001b[0m| 00:03 Iteration: 1700 / 2000 [ 85%]  (Sampling)\u001b[0m\u001b[A\u001b[A\u001b[A\n",
      "\n",
      "chain 1 |\u001b[34m█████████████████████ \u001b[0m| 00:03 Iteration: 1800 / 2000 [ 90%]  (Sampling)\u001b[0m\u001b[A\u001b[A\n",
      "chain 2 |\u001b[34m████████████████████  \u001b[0m| 00:03 Iteration: 1700 / 2000 [ 85%]  (Sampling)\u001b[0m\u001b[A\n",
      "\n",
      "\n",
      "chain 4 |\u001b[34m█████████████████████ \u001b[0m| 00:03 Iteration: 1800 / 2000 [ 90%]  (Sampling)\u001b[0m\u001b[A\u001b[A\u001b[A\n",
      "\n",
      "chain 1 |\u001b[34m██████████████████████\u001b[0m| 00:03 Iteration: 1900 / 2000 [ 95%]  (Sampling)\u001b[0m\u001b[A\u001b[A\n",
      "chain 2 |\u001b[34m█████████████████████ \u001b[0m| 00:04 Iteration: 1800 / 2000 [ 90%]  (Sampling)\u001b[0m\u001b[A\n",
      "\n",
      "\n",
      "chain 4 |\u001b[34m██████████████████████\u001b[0m| 00:04 Iteration: 1900 / 2000 [ 95%]  (Sampling)\u001b[0m\u001b[A\u001b[A\u001b[A\n",
      "\n",
      "chain 3 |\u001b[34m█████████████████████ \u001b[0m| 00:04 Iteration: 1800 / 2000 [ 90%]  (Sampling)\u001b[0m\u001b[A\u001b[A\n",
      "chain 2 |\u001b[34m██████████████████████\u001b[0m| 00:04 Iteration: 1900 / 2000 [ 95%]  (Sampling)\u001b[0m\u001b[A\n",
      "\n",
      "chain 1 |\u001b[34m█████████████████████████████████████████████\u001b[0m| 00:04 Sampling completed\u001b[0m\u001b[A\u001b[A\n",
      "chain 2 |\u001b[34m█████████████████████████████████████████████\u001b[0m| 00:04 Sampling completed\u001b[0m\n",
      "chain 3 |\u001b[34m█████████████████████████████████████████████\u001b[0m| 00:04 Sampling completed\u001b[0m\n",
      "chain 4 |\u001b[34m█████████████████████████████████████████████\u001b[0m| 00:04 Sampling completed\u001b[0m"
     ]
    },
    {
     "name": "stdout",
     "output_type": "stream",
     "text": [
      "                                                                                                                                                                                                                                                                                                                                "
     ]
    },
    {
     "name": "stderr",
     "output_type": "stream",
     "text": [
      "\n",
      "INFO:cmdstanpy:CmdStan done processing.\n"
     ]
    },
    {
     "name": "stdout",
     "output_type": "stream",
     "text": [
      "\n"
     ]
    }
   ],
   "source": [
    "data_generator_code_4 = CmdStanModel(stan_file='code_4.stan')\n",
    "\n",
    "data4_1 = dict(N=N,\n",
    "                 y=y1_mean)\n",
    "\n",
    "result_code4_1 = data_generator_code_4.sample(data = data4_1)"
   ]
  },
  {
   "cell_type": "code",
   "execution_count": 46,
   "metadata": {},
   "outputs": [
    {
     "name": "stderr",
     "output_type": "stream",
     "text": [
      "INFO:cmdstanpy:CmdStan start processing\n",
      "chain 1 |\u001b[33m                                                         \u001b[0m| 00:00 Status\u001b[0m\n",
      "chain 2 |\u001b[33m                                                         \u001b[0m| 00:00 Status\u001b[0m\u001b[A\n",
      "\n",
      "chain 3 |\u001b[33m                                                         \u001b[0m| 00:00 Status\u001b[0m\u001b[A\u001b[A\n",
      "\n",
      "\n",
      "chain 4 |\u001b[33m                                                         \u001b[0m| 00:00 Status\u001b[0m\u001b[A\u001b[A\u001b[A\n",
      "\n",
      "\n",
      "chain 4 |\u001b[33m███▎                    \u001b[0m| 00:00 Iteration:  100 / 2000 [  5%]  (Warmup)\u001b[0m\u001b[A\u001b[A\u001b[A\n",
      "\n",
      "chain 3 |\u001b[33m███▎                    \u001b[0m| 00:00 Iteration:  100 / 2000 [  5%]  (Warmup)\u001b[0m\u001b[A\u001b[A\n",
      "\n",
      "\n",
      "chain 1 |\u001b[33m██▏                     \u001b[0m| 00:00 Iteration:    1 / 2000 [  0%]  (Warmup)\u001b[0m\u001b[A\u001b[A\u001b[A\n",
      "chain 2 |\u001b[33m██▏                     \u001b[0m| 00:00 Iteration:    1 / 2000 [  0%]  (Warmup)\u001b[0m\u001b[A\n",
      "\n",
      "chain 3 |\u001b[33m█████▍                  \u001b[0m| 00:00 Iteration:  300 / 2000 [ 15%]  (Warmup)\u001b[0m\u001b[A\u001b[A\n",
      "\n",
      "\n",
      "chain 4 |\u001b[33m███████▋                \u001b[0m| 00:00 Iteration:  500 / 2000 [ 25%]  (Warmup)\u001b[0m\u001b[A\u001b[A\u001b[A\n",
      "\n",
      "\n",
      "chain 1 |\u001b[33m███▎                    \u001b[0m| 00:00 Iteration:  100 / 2000 [  5%]  (Warmup)\u001b[0m\u001b[A\u001b[A\u001b[A\n",
      "\n",
      "chain 3 |\u001b[33m███████▋                \u001b[0m| 00:00 Iteration:  500 / 2000 [ 25%]  (Warmup)\u001b[0m\u001b[A\u001b[A\n",
      "chain 2 |\u001b[33m███▎                    \u001b[0m| 00:00 Iteration:  100 / 2000 [  5%]  (Warmup)\u001b[0m\u001b[A\n",
      "\n",
      "\n",
      "chain 4 |\u001b[33m████████████            \u001b[0m| 00:00 Iteration:  900 / 2000 [ 45%]  (Warmup)\u001b[0m\u001b[A\u001b[A\u001b[A\n",
      "chain 1 |\u001b[33m████▎                   \u001b[0m| 00:00 Iteration:  200 / 2000 [ 10%]  (Warmup)\u001b[0m\u001b[A\n",
      "\n",
      "chain 3 |\u001b[33m█████████▊              \u001b[0m| 00:00 Iteration:  700 / 2000 [ 35%]  (Warmup)\u001b[0m\u001b[A\u001b[A\n",
      "\n",
      "chain 1 |\u001b[33m██████▌                 \u001b[0m| 00:00 Iteration:  400 / 2000 [ 20%]  (Warmup)\u001b[0m\u001b[A\u001b[A\n",
      "chain 1 |\u001b[33m████████▋               \u001b[0m| 00:01 Iteration:  600 / 2000 [ 30%]  (Warmup)\u001b[0m\u001b[A\n",
      "\n",
      "\n",
      "chain 4 |\u001b[34m█████████████         \u001b[0m| 00:01 Iteration: 1001 / 2000 [ 50%]  (Sampling)\u001b[0m\u001b[A\u001b[A\u001b[A\n",
      "chain 1 |\u001b[33m██████████▉             \u001b[0m| 00:01 Iteration:  800 / 2000 [ 40%]  (Warmup)\u001b[0m\u001b[A\n",
      "chain 2 |\u001b[33m██████████▉             \u001b[0m| 00:01 Iteration:  800 / 2000 [ 40%]  (Warmup)\u001b[0m\u001b[A\n",
      "\n",
      "chain 1 |\u001b[34m█████████████         \u001b[0m| 00:01 Iteration: 1001 / 2000 [ 50%]  (Sampling)\u001b[0m\u001b[A\u001b[A\n",
      "chain 2 |\u001b[34m█████████████         \u001b[0m| 00:01 Iteration: 1001 / 2000 [ 50%]  (Sampling)\u001b[0m\u001b[A\n",
      "\n",
      "\n",
      "chain 4 |\u001b[34m██████████████▉       \u001b[0m| 00:01 Iteration: 1200 / 2000 [ 60%]  (Sampling)\u001b[0m\u001b[A\u001b[A\u001b[A\n",
      "\n",
      "chain 3 |\u001b[34m██████████████▉       \u001b[0m| 00:01 Iteration: 1200 / 2000 [ 60%]  (Sampling)\u001b[0m\u001b[A\u001b[A\n",
      "\n",
      "\n",
      "chain 1 |\u001b[34m██████████████▉       \u001b[0m| 00:02 Iteration: 1200 / 2000 [ 60%]  (Sampling)\u001b[0m\u001b[A\u001b[A\u001b[A\n",
      "\n",
      "chain 3 |\u001b[34m████████████████      \u001b[0m| 00:02 Iteration: 1300 / 2000 [ 65%]  (Sampling)\u001b[0m\u001b[A\u001b[A\n",
      "chain 2 |\u001b[34m██████████████▉       \u001b[0m| 00:02 Iteration: 1200 / 2000 [ 60%]  (Sampling)\u001b[0m\u001b[A\n",
      "\n",
      "\n",
      "chain 1 |\u001b[34m████████████████      \u001b[0m| 00:02 Iteration: 1300 / 2000 [ 65%]  (Sampling)\u001b[0m\u001b[A\u001b[A\u001b[A\n",
      "\n",
      "chain 3 |\u001b[34m█████████████████     \u001b[0m| 00:02 Iteration: 1400 / 2000 [ 70%]  (Sampling)\u001b[0m\u001b[A\u001b[A\n",
      "chain 2 |\u001b[34m████████████████      \u001b[0m| 00:02 Iteration: 1300 / 2000 [ 65%]  (Sampling)\u001b[0m\u001b[A\n",
      "\n",
      "\n",
      "chain 4 |\u001b[34m██████████████████    \u001b[0m| 00:02 Iteration: 1500 / 2000 [ 75%]  (Sampling)\u001b[0m\u001b[A\u001b[A\u001b[A\n",
      "\n",
      "chain 1 |\u001b[34m█████████████████     \u001b[0m| 00:03 Iteration: 1400 / 2000 [ 70%]  (Sampling)\u001b[0m\u001b[A\u001b[A\n",
      "chain 2 |\u001b[34m█████████████████     \u001b[0m| 00:03 Iteration: 1400 / 2000 [ 70%]  (Sampling)\u001b[0m\u001b[A\n",
      "\n",
      "\n",
      "chain 4 |\u001b[34m███████████████████   \u001b[0m| 00:03 Iteration: 1600 / 2000 [ 80%]  (Sampling)\u001b[0m\u001b[A\u001b[A\u001b[A\n",
      "\n",
      "chain 1 |\u001b[34m██████████████████    \u001b[0m| 00:03 Iteration: 1500 / 2000 [ 75%]  (Sampling)\u001b[0m\u001b[A\u001b[A\n",
      "chain 2 |\u001b[34m██████████████████    \u001b[0m| 00:03 Iteration: 1500 / 2000 [ 75%]  (Sampling)\u001b[0m\u001b[A\n",
      "\n",
      "\n",
      "chain 4 |\u001b[34m████████████████████  \u001b[0m| 00:03 Iteration: 1700 / 2000 [ 85%]  (Sampling)\u001b[0m\u001b[A\u001b[A\u001b[A\n",
      "\n",
      "chain 1 |\u001b[34m███████████████████   \u001b[0m| 00:03 Iteration: 1600 / 2000 [ 80%]  (Sampling)\u001b[0m\u001b[A\u001b[A\n",
      "chain 2 |\u001b[34m███████████████████   \u001b[0m| 00:03 Iteration: 1600 / 2000 [ 80%]  (Sampling)\u001b[0m\u001b[A\n",
      "\n",
      "\n",
      "chain 4 |\u001b[34m█████████████████████ \u001b[0m| 00:03 Iteration: 1800 / 2000 [ 90%]  (Sampling)\u001b[0m\u001b[A\u001b[A\u001b[A\n",
      "\n",
      "chain 1 |\u001b[34m████████████████████  \u001b[0m| 00:04 Iteration: 1700 / 2000 [ 85%]  (Sampling)\u001b[0m\u001b[A\u001b[A\n",
      "chain 2 |\u001b[34m████████████████████  \u001b[0m| 00:04 Iteration: 1700 / 2000 [ 85%]  (Sampling)\u001b[0m\u001b[A\n",
      "\n",
      "\n",
      "chain 4 |\u001b[34m██████████████████████\u001b[0m| 00:04 Iteration: 1900 / 2000 [ 95%]  (Sampling)\u001b[0m\u001b[A\u001b[A\u001b[A\n",
      "\n",
      "chain 1 |\u001b[34m█████████████████████ \u001b[0m| 00:04 Iteration: 1800 / 2000 [ 90%]  (Sampling)\u001b[0m\u001b[A\u001b[A\n",
      "chain 1 |\u001b[34m██████████████████████\u001b[0m| 00:04 Iteration: 1900 / 2000 [ 95%]  (Sampling)\u001b[0m\u001b[A\n",
      "chain 1 |\u001b[34m█████████████████████████████████████████████\u001b[0m| 00:04 Sampling completed\u001b[0m\u001b[A\n",
      "chain 2 |\u001b[34m█████████████████████████████████████████████\u001b[0m| 00:04 Sampling completed\u001b[0m\n",
      "chain 3 |\u001b[34m█████████████████████████████████████████████\u001b[0m| 00:04 Sampling completed\u001b[0m\n",
      "chain 4 |\u001b[34m█████████████████████████████████████████████\u001b[0m| 00:04 Sampling completed\u001b[0m"
     ]
    },
    {
     "name": "stdout",
     "output_type": "stream",
     "text": [
      "                                                                                                                                                                                                                                                                                                                                "
     ]
    },
    {
     "name": "stderr",
     "output_type": "stream",
     "text": [
      "\n",
      "INFO:cmdstanpy:CmdStan done processing.\n"
     ]
    },
    {
     "name": "stdout",
     "output_type": "stream",
     "text": [
      "\n"
     ]
    }
   ],
   "source": [
    "data4_2 = dict(N=N,\n",
    "                 y=y2_mean)\n",
    "\n",
    "result_code4_2 = data_generator_code_4.sample(data = data4_1)"
   ]
  },
  {
   "cell_type": "markdown",
   "metadata": {},
   "source": [
    "3. Using az.compare and az.plot_compare analyze both models using loo and waic criteria."
   ]
  },
  {
   "cell_type": "code",
   "execution_count": 29,
   "metadata": {},
   "outputs": [],
   "source": [
    "import arviz as az"
   ]
  },
  {
   "cell_type": "markdown",
   "metadata": {},
   "source": [
    "#### Model3:"
   ]
  },
  {
   "cell_type": "code",
   "execution_count": 31,
   "metadata": {},
   "outputs": [
    {
     "data": {
      "text/plain": [
       "Computed from 4000 by 1400 log-likelihood matrix\n",
       "\n",
       "         Estimate       SE\n",
       "elpd_loo  3096.14    24.58\n",
       "p_loo        1.91        -"
      ]
     },
     "execution_count": 31,
     "metadata": {},
     "output_type": "execute_result"
    }
   ],
   "source": [
    "az.loo(result_code3)"
   ]
  },
  {
   "cell_type": "code",
   "execution_count": 34,
   "metadata": {},
   "outputs": [
    {
     "data": {
      "text/plain": [
       "Computed from 4000 by 1400 log-likelihood matrix\n",
       "\n",
       "          Estimate       SE\n",
       "elpd_waic  3096.14    24.58\n",
       "p_waic        1.91        -"
      ]
     },
     "execution_count": 34,
     "metadata": {},
     "output_type": "execute_result"
    }
   ],
   "source": [
    "az.waic(result_code3)"
   ]
  },
  {
   "cell_type": "markdown",
   "metadata": {},
   "source": [
    "#### Model4:"
   ]
  },
  {
   "cell_type": "code",
   "execution_count": 36,
   "metadata": {},
   "outputs": [
    {
     "data": {
      "text/plain": [
       "Computed from 4000 by 1400 log-likelihood matrix\n",
       "\n",
       "         Estimate       SE\n",
       "elpd_loo  3093.54    24.79\n",
       "p_loo        1.98        -"
      ]
     },
     "execution_count": 36,
     "metadata": {},
     "output_type": "execute_result"
    }
   ],
   "source": [
    "az.loo(result_code4_1)"
   ]
  },
  {
   "cell_type": "code",
   "execution_count": 47,
   "metadata": {},
   "outputs": [
    {
     "data": {
      "text/plain": [
       "Computed from 4000 by 1400 log-likelihood matrix\n",
       "\n",
       "         Estimate       SE\n",
       "elpd_loo  3093.60    24.75\n",
       "p_loo        1.88        -"
      ]
     },
     "execution_count": 47,
     "metadata": {},
     "output_type": "execute_result"
    }
   ],
   "source": [
    "az.loo(result_code4_2)"
   ]
  },
  {
   "cell_type": "code",
   "execution_count": 26,
   "metadata": {},
   "outputs": [
    {
     "data": {
      "text/plain": [
       "Computed from 4000 by 1600 log-likelihood matrix\n",
       "\n",
       "          Estimate       SE\n",
       "elpd_waic  3503.32    28.69\n",
       "p_waic        2.23        -"
      ]
     },
     "execution_count": 26,
     "metadata": {},
     "output_type": "execute_result"
    }
   ],
   "source": [
    "az.waic(result_code4_1)"
   ]
  },
  {
   "cell_type": "code",
   "execution_count": 27,
   "metadata": {},
   "outputs": [
    {
     "data": {
      "text/plain": [
       "Computed from 4000 by 1600 log-likelihood matrix\n",
       "\n",
       "          Estimate       SE\n",
       "elpd_waic  2910.29    27.82\n",
       "p_waic        2.05        -"
      ]
     },
     "execution_count": 27,
     "metadata": {},
     "output_type": "execute_result"
    }
   ],
   "source": [
    "az.waic(result_code4_2)"
   ]
  },
  {
   "cell_type": "markdown",
   "metadata": {},
   "source": [
    "#### Comparison:"
   ]
  },
  {
   "cell_type": "code",
   "execution_count": 48,
   "metadata": {},
   "outputs": [],
   "source": [
    "code4_1 = az.from_cmdstanpy(result_code4_1)\n",
    "code4_2 = az.from_cmdstanpy(result_code4_2)"
   ]
  },
  {
   "cell_type": "code",
   "execution_count": 32,
   "metadata": {},
   "outputs": [
    {
     "name": "stderr",
     "output_type": "stream",
     "text": [
      "c:\\Users\\igach\\AppData\\Local\\Programs\\Python\\Python310\\lib\\site-packages\\arviz\\stats\\stats.py:248: FutureWarning: The frame.append method is deprecated and will be removed from pandas in a future version. Use pandas.concat instead.\n",
      "  ics = ics.append([ic_func(dataset, pointwise=True, scale=scale, var_name=var_name)])\n"
     ]
    },
    {
     "name": "stdout",
     "output_type": "stream",
     "text": [
      "   rank          loo     p_loo       d_loo    weight         se        dse  \\\n",
      "1     0  3503.318161  2.231713    0.000000  0.920637  28.689567   0.000000   \n",
      "2     1  2910.289333  2.051390  593.028828  0.079363  27.819243  40.423731   \n",
      "\n",
      "   warning loo_scale  \n",
      "1    False       log  \n",
      "2    False       log  \n"
     ]
    },
    {
     "name": "stderr",
     "output_type": "stream",
     "text": [
      "c:\\Users\\igach\\AppData\\Local\\Programs\\Python\\Python310\\lib\\site-packages\\arviz\\stats\\stats.py:248: FutureWarning: The frame.append method is deprecated and will be removed from pandas in a future version. Use pandas.concat instead.\n",
      "  ics = ics.append([ic_func(dataset, pointwise=True, scale=scale, var_name=var_name)])\n"
     ]
    }
   ],
   "source": [
    "code4_compare = az.compare({\"1\":code4_1, \"2\":code4_2})\n",
    "print(code4_compare)"
   ]
  },
  {
   "cell_type": "code",
   "execution_count": 33,
   "metadata": {},
   "outputs": [
    {
     "data": {
      "text/plain": [
       "<AxesSubplot:xlabel='Log'>"
      ]
     },
     "execution_count": 33,
     "metadata": {},
     "output_type": "execute_result"
    },
    {
     "data": {
      "image/png": "[encoded data removed]",
      "text/plain": [
       "<Figure size 432x144 with 1 Axes>"
      ]
     },
     "metadata": {
      "needs_background": "light"
     },
     "output_type": "display_data"
    }
   ],
   "source": [
    "az.plot_compare(code4_compare)"
   ]
  },
  {
   "cell_type": "markdown",
   "metadata": {},
   "source": [
    "#### **Task 3: Compare models with different numbers of predictors**"
   ]
  },
  {
   "cell_type": "markdown",
   "metadata": {},
   "source": [
    "1. Compile model."
   ]
  },
  {
   "cell_type": "code",
   "execution_count": 34,
   "metadata": {},
   "outputs": [
    {
     "name": "stderr",
     "output_type": "stream",
     "text": [
      "INFO:cmdstanpy:compiling stan file C:\\Users\\igach\\Desktop\\Python_folder\\Topic_7 — kopia\\code_5.stan to exe file C:\\Users\\igach\\Desktop\\Python_folder\\Topic_7 — kopia\\code_5.exe\n",
      "INFO:cmdstanpy:compiled model executable: C:\\Users\\igach\\Desktop\\Python_folder\\Topic_7 — kopia\\code_5.exe\n"
     ]
    }
   ],
   "source": [
    "data_generator_code_5 = CmdStanModel(stan_file='code_5.stan')"
   ]
  },
  {
   "cell_type": "markdown",
   "metadata": {},
   "source": [
    "2. Compare models for 1, 2 and 3 predictors as in previous excercise."
   ]
  },
  {
   "cell_type": "markdown",
   "metadata": {},
   "source": [
    "1 predictor:"
   ]
  },
  {
   "cell_type": "code",
   "execution_count": 35,
   "metadata": {},
   "outputs": [
    {
     "name": "stderr",
     "output_type": "stream",
     "text": [
      "INFO:cmdstanpy:CmdStan start processing\n",
      "chain 1 |\u001b[33m          \u001b[0m| 00:00 Status\n",
      "\u001b[A\n",
      "\n",
      "\u001b[A\u001b[A\n",
      "\n",
      "\u001b[A\u001b[A\n",
      "chain 1 |\u001b[33m█▎        \u001b[0m| 00:00 Iteration:  100 / 2000 [  5%]  (Warmup)\n",
      "\n",
      "\u001b[A\u001b[A\n",
      "chain 1 |\u001b[33m██▎       \u001b[0m| 00:00 Iteration:  300 / 2000 [ 15%]  (Warmup)\n",
      "\n",
      "\u001b[A\u001b[A\n",
      "chain 1 |\u001b[33m███▏      \u001b[0m| 00:00 Iteration:  500 / 2000 [ 25%]  (Warmup)\n",
      "\n",
      "\u001b[A\u001b[A\n",
      "chain 1 |\u001b[33m████      \u001b[0m| 00:00 Iteration:  700 / 2000 [ 35%]  (Warmup)\n",
      "\n",
      "\u001b[A\u001b[A\n",
      "\u001b[A\n",
      "\n",
      "chain 1 |\u001b[33m█████     \u001b[0m| 00:00 Iteration:  900 / 2000 [ 45%]  (Warmup)\n",
      "chain 1 |\u001b[34m█████▉    \u001b[0m| 00:02 Iteration: 1001 / 2000 [ 50%]  (Sampling)\n",
      "\n",
      "\u001b[A\u001b[A\n",
      "chain 1 |\u001b[34m██████▎   \u001b[0m| 00:03 Iteration: 1100 / 2000 [ 55%]  (Sampling)\n",
      "chain 1 |\u001b[34m██████▊   \u001b[0m| 00:04 Iteration: 1200 / 2000 [ 60%]  (Sampling)\n",
      "\u001b[A\n",
      "\n",
      "chain 1 |\u001b[34m███████▎  \u001b[0m| 00:05 Iteration: 1300 / 2000 [ 65%]  (Sampling)\n",
      "\u001b[A\n",
      "\n",
      "chain 1 |\u001b[34m███████▋  \u001b[0m| 00:07 Iteration: 1400 / 2000 [ 70%]  (Sampling)\n",
      "\n",
      "\u001b[A\u001b[A\n",
      "chain 1 |\u001b[34m████████▏ \u001b[0m| 00:08 Iteration: 1500 / 2000 [ 75%]  (Sampling)\n",
      "\n",
      "\u001b[A\u001b[A\n",
      "chain 1 |\u001b[34m████████▋ \u001b[0m| 00:09 Iteration: 1600 / 2000 [ 80%]  (Sampling)\n",
      "\n",
      "\u001b[A\u001b[A\n",
      "chain 1 |\u001b[34m█████████ \u001b[0m| 00:11 Iteration: 1700 / 2000 [ 85%]  (Sampling)\n",
      "\n",
      "\u001b[A\u001b[A\n",
      "chain 1 |\u001b[34m█████████▌\u001b[0m| 00:12 Iteration: 1800 / 2000 [ 90%]  (Sampling)\n",
      "\n",
      "\u001b[A\u001b[A\n",
      "chain 1 |\u001b[34m██████████\u001b[0m| 00:13 Iteration: 1900 / 2000 [ 95%]  (Sampling)\n",
      "\n",
      "\u001b[A\u001b[A\n",
      "chain 1 |\u001b[34m██████████\u001b[0m| 00:14 Sampling completed                       \n",
      "chain 2 |\u001b[34m██████████\u001b[0m| 00:14 Sampling completed                       \n",
      "chain 3 |\u001b[34m██████████\u001b[0m| 00:14 Sampling completed                       \n",
      "chain 4 |\u001b[34m██████████\u001b[0m| 00:14 Sampling completed                       "
     ]
    },
    {
     "name": "stdout",
     "output_type": "stream",
     "text": [
      "                                                                                                                                                                                                                                                                                                                                "
     ]
    },
    {
     "name": "stderr",
     "output_type": "stream",
     "text": [
      "\n",
      "INFO:cmdstanpy:CmdStan done processing.\n"
     ]
    },
    {
     "name": "stdout",
     "output_type": "stream",
     "text": [
      "\n"
     ]
    }
   ],
   "source": [
    "nxm = []\n",
    "for i in X[:,0]:\n",
    "    nxm.append([i])\n",
    "\n",
    "code_5 = dict(N=N, K=1, y=np.array(y2_mean), X=nxm)\n",
    "pred_1_result = data_generator_code_5.sample(data = code5)"
   ]
  },
  {
   "cell_type": "markdown",
   "metadata": {},
   "source": [
    "2 predictor:"
   ]
  },
  {
   "cell_type": "code",
   "execution_count": 36,
   "metadata": {},
   "outputs": [
    {
     "name": "stderr",
     "output_type": "stream",
     "text": [
      "INFO:cmdstanpy:CmdStan start processing\n",
      "chain 1 |\u001b[33m          \u001b[0m| 00:00 Status\n",
      "\u001b[A\n",
      "\n",
      "\u001b[A\u001b[A\n",
      "\n",
      "chain 1 |\u001b[33m▉         \u001b[0m| 00:00 Iteration:    1 / 2000 [  0%]  (Warmup)\n",
      "\u001b[A\n",
      "\n",
      "chain 1 |\u001b[33m█▊        \u001b[0m| 00:00 Iteration:  200 / 2000 [ 10%]  (Warmup)\n",
      "\u001b[A\n",
      "\n",
      "chain 1 |\u001b[33m██▋       \u001b[0m| 00:00 Iteration:  400 / 2000 [ 20%]  (Warmup)\n",
      "\u001b[A\n",
      "\n",
      "chain 1 |\u001b[33m███▋      \u001b[0m| 00:00 Iteration:  600 / 2000 [ 30%]  (Warmup)\n",
      "\u001b[A\n",
      "\n",
      "chain 1 |\u001b[33m████▌     \u001b[0m| 00:00 Iteration:  800 / 2000 [ 40%]  (Warmup)\n",
      "\u001b[A\n",
      "\n",
      "\u001b[A\u001b[A\n",
      "chain 1 |\u001b[34m█████▉    \u001b[0m| 00:02 Iteration: 1001 / 2000 [ 50%]  (Sampling)\n",
      "\n",
      "\u001b[A\u001b[A\n",
      "chain 1 |\u001b[34m██████▎   \u001b[0m| 00:03 Iteration: 1100 / 2000 [ 55%]  (Sampling)\n",
      "\n",
      "\u001b[A\u001b[A\n",
      "chain 1 |\u001b[34m██████▊   \u001b[0m| 00:04 Iteration: 1200 / 2000 [ 60%]  (Sampling)\n",
      "\n",
      "\u001b[A\u001b[A\n",
      "chain 1 |\u001b[34m███████▎  \u001b[0m| 00:05 Iteration: 1300 / 2000 [ 65%]  (Sampling)\n",
      "\u001b[A\n",
      "\n",
      "chain 1 |\u001b[34m████████▏ \u001b[0m| 00:08 Iteration: 1500 / 2000 [ 75%]  (Sampling)\n",
      "\n",
      "\u001b[A\u001b[A\n",
      "chain 1 |\u001b[34m████████▋ \u001b[0m| 00:09 Iteration: 1600 / 2000 [ 80%]  (Sampling)\n",
      "\u001b[A\n",
      "\n",
      "chain 1 |\u001b[34m█████████ \u001b[0m| 00:10 Iteration: 1700 / 2000 [ 85%]  (Sampling)\n",
      "\n",
      "\u001b[A\u001b[A\n",
      "chain 1 |\u001b[34m█████████▌\u001b[0m| 00:11 Iteration: 1800 / 2000 [ 90%]  (Sampling)\n",
      "\u001b[A\n",
      "\n",
      "chain 1 |\u001b[34m██████████\u001b[0m| 00:12 Iteration: 1900 / 2000 [ 95%]  (Sampling)\n",
      "\n",
      "\u001b[A\u001b[A\n",
      "chain 1 |\u001b[34m██████████\u001b[0m| 00:12 Sampling completed                       \n",
      "chain 2 |\u001b[34m██████████\u001b[0m| 00:12 Sampling completed                       \n",
      "chain 3 |\u001b[34m██████████\u001b[0m| 00:12 Sampling completed                       \n",
      "chain 4 |\u001b[34m██████████\u001b[0m| 00:12 Sampling completed                       "
     ]
    },
    {
     "name": "stdout",
     "output_type": "stream",
     "text": [
      "                                                                                                                                                                                                                                                                                                                                "
     ]
    },
    {
     "name": "stderr",
     "output_type": "stream",
     "text": [
      "\n",
      "INFO:cmdstanpy:CmdStan done processing.\n"
     ]
    },
    {
     "name": "stdout",
     "output_type": "stream",
     "text": [
      "\n"
     ]
    }
   ],
   "source": [
    "nxm = []\n",
    "matrix_temp = X[:, 0:2]\n",
    "\n",
    "for i in matrix_temp:\n",
    "    vect = []\n",
    "    for j in i:\n",
    "        vect.append(j)\n",
    "    nxm.append(vect)\n",
    "\n",
    "code5 = dict(N=N, K=2, y=np.array(y2_mean), X=nxm)\n",
    "pred_2_result = data_generator_code_5.sample(data = code5)"
   ]
  },
  {
   "cell_type": "markdown",
   "metadata": {},
   "source": [
    "3 predictor:"
   ]
  },
  {
   "cell_type": "code",
   "execution_count": 37,
   "metadata": {},
   "outputs": [
    {
     "name": "stderr",
     "output_type": "stream",
     "text": [
      "INFO:cmdstanpy:CmdStan start processing\n",
      "chain 1 |\u001b[33m          \u001b[0m| 00:00 Status\n",
      "\u001b[A\n",
      "\n",
      "chain 1 |\u001b[33m▉         \u001b[0m| 00:00 Iteration:    1 / 2000 [  0%]  (Warmup)\n",
      "\u001b[A\n",
      "\n",
      "chain 1 |\u001b[33m█▊        \u001b[0m| 00:00 Iteration:  200 / 2000 [ 10%]  (Warmup)\n",
      "chain 1 |\u001b[33m██▋       \u001b[0m| 00:00 Iteration:  400 / 2000 [ 20%]  (Warmup)\n",
      "\n",
      "\u001b[A\u001b[A\n",
      "chain 1 |\u001b[33m███▋      \u001b[0m| 00:00 Iteration:  600 / 2000 [ 30%]  (Warmup)\n",
      "\n",
      "\u001b[A\u001b[A\n",
      "chain 1 |\u001b[33m████▌     \u001b[0m| 00:00 Iteration:  800 / 2000 [ 40%]  (Warmup)\n",
      "\n",
      "\u001b[A\u001b[A\n",
      "\u001b[A\n",
      "\n",
      "chain 1 |\u001b[34m█████▉    \u001b[0m| 00:01 Iteration: 1001 / 2000 [ 50%]  (Sampling)\n",
      "\u001b[A\n",
      "\n",
      "chain 1 |\u001b[34m██████▊   \u001b[0m| 00:04 Iteration: 1200 / 2000 [ 60%]  (Sampling)\n",
      "\u001b[A\n",
      "\n",
      "chain 1 |\u001b[34m███████▎  \u001b[0m| 00:05 Iteration: 1300 / 2000 [ 65%]  (Sampling)\n",
      "\u001b[A\n",
      "\n",
      "\u001b[A\u001b[A\n",
      "chain 1 |\u001b[34m███████▋  \u001b[0m| 00:06 Iteration: 1400 / 2000 [ 70%]  (Sampling)\n",
      "\n",
      "\u001b[A\u001b[A\n",
      "chain 1 |\u001b[34m████████▏ \u001b[0m| 00:07 Iteration: 1500 / 2000 [ 75%]  (Sampling)\n",
      "\n",
      "\u001b[A\u001b[A\n",
      "chain 1 |\u001b[34m████████▋ \u001b[0m| 00:08 Iteration: 1600 / 2000 [ 80%]  (Sampling)\n",
      "\n",
      "\u001b[A\u001b[A\n",
      "chain 1 |\u001b[34m█████████ \u001b[0m| 00:09 Iteration: 1700 / 2000 [ 85%]  (Sampling)\n",
      "\n",
      "\u001b[A\u001b[A\n",
      "chain 1 |\u001b[34m█████████▌\u001b[0m| 00:11 Iteration: 1800 / 2000 [ 90%]  (Sampling)\n",
      "\n",
      "\u001b[A\u001b[A\n",
      "chain 1 |\u001b[34m██████████\u001b[0m| 00:12 Iteration: 1900 / 2000 [ 95%]  (Sampling)\n",
      "\n",
      "chain 1 |\u001b[34m██████████\u001b[0m| 00:12 Sampling completed                       \n",
      "chain 2 |\u001b[34m██████████\u001b[0m| 00:12 Sampling completed                       \n",
      "chain 3 |\u001b[34m██████████\u001b[0m| 00:12 Sampling completed                       \n",
      "chain 4 |\u001b[34m██████████\u001b[0m| 00:12 Sampling completed                       "
     ]
    },
    {
     "name": "stdout",
     "output_type": "stream",
     "text": [
      "                                                                                                                                                                                                                                                                                                                                "
     ]
    },
    {
     "name": "stderr",
     "output_type": "stream",
     "text": [
      "\n",
      "INFO:cmdstanpy:CmdStan done processing.\n"
     ]
    },
    {
     "name": "stdout",
     "output_type": "stream",
     "text": [
      "\n"
     ]
    }
   ],
   "source": [
    "nxm = []\n",
    "matrix_temp = X[:,0:3]\n",
    "for i in matrix_temp:\n",
    "    vect = []\n",
    "    for j in i:\n",
    "        vect.append(j)\n",
    "    nxm.append(vect)\n",
    "\n",
    "code5 = dict(N=N, K=3, y=np.array(y2_mean), X=nxm)\n",
    "pred_3_result = data_generator_code_5.sample(data = code5)"
   ]
  },
  {
   "cell_type": "code",
   "execution_count": 38,
   "metadata": {},
   "outputs": [
    {
     "data": {
      "text/plain": [
       "Computed from 4000 by 1600 log-likelihood matrix\n",
       "\n",
       "         Estimate       SE\n",
       "elpd_loo  2912.61    27.55\n",
       "p_loo        1.90        -"
      ]
     },
     "execution_count": 38,
     "metadata": {},
     "output_type": "execute_result"
    }
   ],
   "source": [
    "az.loo(pred_1_result)"
   ]
  },
  {
   "cell_type": "code",
   "execution_count": 39,
   "metadata": {},
   "outputs": [
    {
     "data": {
      "text/plain": [
       "Computed from 4000 by 1600 log-likelihood matrix\n",
       "\n",
       "         Estimate       SE\n",
       "elpd_loo  2912.55    27.46\n",
       "p_loo        2.96        -"
      ]
     },
     "execution_count": 39,
     "metadata": {},
     "output_type": "execute_result"
    }
   ],
   "source": [
    "az.loo(pred_2_result)"
   ]
  },
  {
   "cell_type": "code",
   "execution_count": 40,
   "metadata": {},
   "outputs": [
    {
     "data": {
      "text/plain": [
       "Computed from 4000 by 1600 log-likelihood matrix\n",
       "\n",
       "         Estimate       SE\n",
       "elpd_loo  2911.40    27.49\n",
       "p_loo        4.11        -"
      ]
     },
     "execution_count": 40,
     "metadata": {},
     "output_type": "execute_result"
    }
   ],
   "source": [
    "az.loo(pred_3_result)"
   ]
  },
  {
   "cell_type": "code",
   "execution_count": 41,
   "metadata": {},
   "outputs": [
    {
     "data": {
      "text/plain": [
       "Computed from 4000 by 1600 log-likelihood matrix\n",
       "\n",
       "          Estimate       SE\n",
       "elpd_waic  2912.61    27.55\n",
       "p_waic        1.90        -"
      ]
     },
     "execution_count": 41,
     "metadata": {},
     "output_type": "execute_result"
    }
   ],
   "source": [
    "az.waic(pred_1_result)"
   ]
  },
  {
   "cell_type": "code",
   "execution_count": 42,
   "metadata": {},
   "outputs": [
    {
     "data": {
      "text/plain": [
       "Computed from 4000 by 1600 log-likelihood matrix\n",
       "\n",
       "          Estimate       SE\n",
       "elpd_waic  2912.55    27.46\n",
       "p_waic        2.96        -"
      ]
     },
     "execution_count": 42,
     "metadata": {},
     "output_type": "execute_result"
    }
   ],
   "source": [
    "az.waic(pred_2_result)"
   ]
  },
  {
   "cell_type": "code",
   "execution_count": 43,
   "metadata": {},
   "outputs": [
    {
     "data": {
      "text/plain": [
       "Computed from 4000 by 1600 log-likelihood matrix\n",
       "\n",
       "          Estimate       SE\n",
       "elpd_waic  2911.40    27.49\n",
       "p_waic        4.11        -"
      ]
     },
     "execution_count": 43,
     "metadata": {},
     "output_type": "execute_result"
    }
   ],
   "source": [
    "az.waic(pred_3_result)"
   ]
  },
  {
   "cell_type": "code",
   "execution_count": 44,
   "metadata": {},
   "outputs": [
    {
     "name": "stderr",
     "output_type": "stream",
     "text": [
      "c:\\Users\\igach\\AppData\\Local\\Programs\\Python\\Python310\\lib\\site-packages\\arviz\\stats\\stats.py:248: FutureWarning: The frame.append method is deprecated and will be removed from pandas in a future version. Use pandas.concat instead.\n",
      "  ics = ics.append([ic_func(dataset, pointwise=True, scale=scale, var_name=var_name)])\n",
      "c:\\Users\\igach\\AppData\\Local\\Programs\\Python\\Python310\\lib\\site-packages\\arviz\\stats\\stats.py:248: FutureWarning: The frame.append method is deprecated and will be removed from pandas in a future version. Use pandas.concat instead.\n",
      "  ics = ics.append([ic_func(dataset, pointwise=True, scale=scale, var_name=var_name)])\n",
      "c:\\Users\\igach\\AppData\\Local\\Programs\\Python\\Python310\\lib\\site-packages\\arviz\\stats\\stats.py:248: FutureWarning: The frame.append method is deprecated and will be removed from pandas in a future version. Use pandas.concat instead.\n",
      "  ics = ics.append([ic_func(dataset, pointwise=True, scale=scale, var_name=var_name)])\n"
     ]
    },
    {
     "data": {
      "text/html": [
       "<div>\n",
       "<style scoped>\n",
       "    .dataframe tbody tr th:only-of-type {\n",
       "        vertical-align: middle;\n",
       "    }\n",
       "\n",
       "    .dataframe tbody tr th {\n",
       "        vertical-align: top;\n",
       "    }\n",
       "\n",
       "    .dataframe thead th {\n",
       "        text-align: right;\n",
       "    }\n",
       "</style>\n",
       "<table border=\"1\" class=\"dataframe\">\n",
       "  <thead>\n",
       "    <tr style=\"text-align: right;\">\n",
       "      <th></th>\n",
       "      <th>rank</th>\n",
       "      <th>loo</th>\n",
       "      <th>p_loo</th>\n",
       "      <th>d_loo</th>\n",
       "      <th>weight</th>\n",
       "      <th>se</th>\n",
       "      <th>dse</th>\n",
       "      <th>warning</th>\n",
       "      <th>loo_scale</th>\n",
       "    </tr>\n",
       "  </thead>\n",
       "  <tbody>\n",
       "    <tr>\n",
       "      <th>1</th>\n",
       "      <td>0</td>\n",
       "      <td>2912.614487</td>\n",
       "      <td>1.903657</td>\n",
       "      <td>0.000000</td>\n",
       "      <td>0.531184</td>\n",
       "      <td>27.549341</td>\n",
       "      <td>0.000000</td>\n",
       "      <td>False</td>\n",
       "      <td>log</td>\n",
       "    </tr>\n",
       "    <tr>\n",
       "      <th>2</th>\n",
       "      <td>1</td>\n",
       "      <td>2912.553175</td>\n",
       "      <td>2.961650</td>\n",
       "      <td>0.061312</td>\n",
       "      <td>0.468816</td>\n",
       "      <td>27.458123</td>\n",
       "      <td>1.415931</td>\n",
       "      <td>False</td>\n",
       "      <td>log</td>\n",
       "    </tr>\n",
       "    <tr>\n",
       "      <th>3</th>\n",
       "      <td>2</td>\n",
       "      <td>2911.395087</td>\n",
       "      <td>4.113301</td>\n",
       "      <td>1.219400</td>\n",
       "      <td>0.000000</td>\n",
       "      <td>27.486274</td>\n",
       "      <td>1.444961</td>\n",
       "      <td>False</td>\n",
       "      <td>log</td>\n",
       "    </tr>\n",
       "  </tbody>\n",
       "</table>\n",
       "</div>"
      ],
      "text/plain": [
       "   rank          loo     p_loo     d_loo    weight         se       dse  \\\n",
       "1     0  2912.614487  1.903657  0.000000  0.531184  27.549341  0.000000   \n",
       "2     1  2912.553175  2.961650  0.061312  0.468816  27.458123  1.415931   \n",
       "3     2  2911.395087  4.113301  1.219400  0.000000  27.486274  1.444961   \n",
       "\n",
       "   warning loo_scale  \n",
       "1    False       log  \n",
       "2    False       log  \n",
       "3    False       log  "
      ]
     },
     "execution_count": 44,
     "metadata": {},
     "output_type": "execute_result"
    }
   ],
   "source": [
    "code5_compare_pred_1 = az.from_cmdstanpy(pred_1_result)\n",
    "code5_compare_pred_2 = az.from_cmdstanpy(pred_2_result)\n",
    "code5_compare_pred_3 = az.from_cmdstanpy(pred_3_result)\n",
    "\n",
    "compare_result_model_5 = az.compare({\"1\":code5_compare_pred_1, \"2\":code5_compare_pred_2, \"3\":code5_compare_pred_3})\n",
    "compare_result_model_5"
   ]
  }
 ],
 "metadata": {
  "interpreter": {
   "hash": "46f483167a09b22be2b898a042c5c1a13a22d7de263fb041cfbb484b78f7661a"
  },
  "kernelspec": {
   "display_name": "Python 3 (ipykernel)",
   "language": "python",
   "name": "python3"
  },
  "language_info": {
   "codemirror_mode": {
    "name": "ipython",
    "version": 3
   },
   "file_extension": ".py",
   "mimetype": "text/x-python",
   "name": "python",
   "nbconvert_exporter": "python",
   "pygments_lexer": "ipython3",
   "version": "3.8.13"
  }
 },
 "nbformat": 4,
 "nbformat_minor": 2
}
