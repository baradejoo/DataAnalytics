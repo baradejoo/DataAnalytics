{
 "cells": [
  {
   "cell_type": "markdown",
   "metadata": {},
   "source": [
    "## **Lab 5 - General Linear Models: Logistic regression**"
   ]
  },
  {
   "cell_type": "code",
   "execution_count": 1,
   "metadata": {},
   "outputs": [
    {
     "name": "stderr",
     "output_type": "stream",
     "text": [
      "/usr/local/anaconda3/envs/DataAnalytics/lib/python3.8/site-packages/tqdm/auto.py:22: TqdmWarning: IProgress not found. Please update jupyter and ipywidgets. See https://ipywidgets.readthedocs.io/en/stable/user_install.html\n",
      "  from .autonotebook import tqdm as notebook_tqdm\n"
     ]
    }
   ],
   "source": [
    "from cmdstanpy import CmdStanModel\n",
    "\n",
    "import arviz as az\n",
    "import numpy as np\n",
    "import scipy.stats as stats\n",
    "\n",
    "import pandas as pd\n",
    "\n",
    "import matplotlib.pyplot as plt\n",
    "import matplotlib as mpl"
   ]
  },
  {
   "cell_type": "markdown",
   "metadata": {},
   "source": [
    "#### **Read data from a csv file**"
   ]
  },
  {
   "cell_type": "code",
   "execution_count": 2,
   "metadata": {},
   "outputs": [
    {
     "data": {
      "text/html": [
       "<div>\n",
       "<style scoped>\n",
       "    .dataframe tbody tr th:only-of-type {\n",
       "        vertical-align: middle;\n",
       "    }\n",
       "\n",
       "    .dataframe tbody tr th {\n",
       "        vertical-align: top;\n",
       "    }\n",
       "\n",
       "    .dataframe thead th {\n",
       "        text-align: right;\n",
       "    }\n",
       "</style>\n",
       "<table border=\"1\" class=\"dataframe\">\n",
       "  <thead>\n",
       "    <tr style=\"text-align: right;\">\n",
       "      <th></th>\n",
       "      <th>x1</th>\n",
       "      <th>x2</th>\n",
       "      <th>x3</th>\n",
       "      <th>x4</th>\n",
       "      <th>x5</th>\n",
       "      <th>y</th>\n",
       "    </tr>\n",
       "  </thead>\n",
       "  <tbody>\n",
       "    <tr>\n",
       "      <th>count</th>\n",
       "      <td>500.000000</td>\n",
       "      <td>500.000000</td>\n",
       "      <td>500.000000</td>\n",
       "      <td>5.000000e+02</td>\n",
       "      <td>5.000000e+02</td>\n",
       "      <td>500.000000</td>\n",
       "    </tr>\n",
       "    <tr>\n",
       "      <th>mean</th>\n",
       "      <td>-0.015777</td>\n",
       "      <td>0.334002</td>\n",
       "      <td>-0.001484</td>\n",
       "      <td>2.022817e-01</td>\n",
       "      <td>2.770684e-03</td>\n",
       "      <td>0.494000</td>\n",
       "    </tr>\n",
       "    <tr>\n",
       "      <th>std</th>\n",
       "      <td>0.578292</td>\n",
       "      <td>0.301507</td>\n",
       "      <td>0.383111</td>\n",
       "      <td>2.738984e-01</td>\n",
       "      <td>3.107472e-01</td>\n",
       "      <td>0.500465</td>\n",
       "    </tr>\n",
       "    <tr>\n",
       "      <th>min</th>\n",
       "      <td>-0.997592</td>\n",
       "      <td>0.000005</td>\n",
       "      <td>-0.992794</td>\n",
       "      <td>2.276756e-11</td>\n",
       "      <td>-9.880191e-01</td>\n",
       "      <td>0.000000</td>\n",
       "    </tr>\n",
       "    <tr>\n",
       "      <th>25%</th>\n",
       "      <td>-0.515144</td>\n",
       "      <td>0.064052</td>\n",
       "      <td>-0.136718</td>\n",
       "      <td>4.102616e-03</td>\n",
       "      <td>-3.628888e-02</td>\n",
       "      <td>0.000000</td>\n",
       "    </tr>\n",
       "    <tr>\n",
       "      <th>50%</th>\n",
       "      <td>-0.026042</td>\n",
       "      <td>0.254724</td>\n",
       "      <td>-0.000018</td>\n",
       "      <td>6.488454e-02</td>\n",
       "      <td>-1.278838e-08</td>\n",
       "      <td>0.000000</td>\n",
       "    </tr>\n",
       "    <tr>\n",
       "      <th>75%</th>\n",
       "      <td>0.475396</td>\n",
       "      <td>0.555544</td>\n",
       "      <td>0.107440</td>\n",
       "      <td>3.086316e-01</td>\n",
       "      <td>2.428165e-02</td>\n",
       "      <td>1.000000</td>\n",
       "    </tr>\n",
       "    <tr>\n",
       "      <th>max</th>\n",
       "      <td>0.999652</td>\n",
       "      <td>0.999305</td>\n",
       "      <td>0.998957</td>\n",
       "      <td>9.986100e-01</td>\n",
       "      <td>9.982628e-01</td>\n",
       "      <td>1.000000</td>\n",
       "    </tr>\n",
       "  </tbody>\n",
       "</table>\n",
       "</div>"
      ],
      "text/plain": [
       "               x1          x2          x3            x4            x5  \\\n",
       "count  500.000000  500.000000  500.000000  5.000000e+02  5.000000e+02   \n",
       "mean    -0.015777    0.334002   -0.001484  2.022817e-01  2.770684e-03   \n",
       "std      0.578292    0.301507    0.383111  2.738984e-01  3.107472e-01   \n",
       "min     -0.997592    0.000005   -0.992794  2.276756e-11 -9.880191e-01   \n",
       "25%     -0.515144    0.064052   -0.136718  4.102616e-03 -3.628888e-02   \n",
       "50%     -0.026042    0.254724   -0.000018  6.488454e-02 -1.278838e-08   \n",
       "75%      0.475396    0.555544    0.107440  3.086316e-01  2.428165e-02   \n",
       "max      0.999652    0.999305    0.998957  9.986100e-01  9.982628e-01   \n",
       "\n",
       "                y  \n",
       "count  500.000000  \n",
       "mean     0.494000  \n",
       "std      0.500465  \n",
       "min      0.000000  \n",
       "25%      0.000000  \n",
       "50%      0.000000  \n",
       "75%      1.000000  \n",
       "max      1.000000  "
      ]
     },
     "execution_count": 2,
     "metadata": {},
     "output_type": "execute_result"
    }
   ],
   "source": [
    "data = pd.read_csv(\"logistic_reg_data.csv\", index_col = 0) #index_col = 0 - treating the first column as the index\n",
    "data.describe()"
   ]
  },
  {
   "cell_type": "markdown",
   "metadata": {},
   "source": [
    "### **Prior selection**"
   ]
  },
  {
   "cell_type": "code",
   "execution_count": 3,
   "metadata": {},
   "outputs": [
    {
     "name": "stderr",
     "output_type": "stream",
     "text": [
      "INFO:cmdstanpy:compiling stan file /Users/kamilbaradziej/PythonProjects/DataAnalytics/Lab5_General_linear_models/logistic_regression_ppc.stan to exe file /Users/kamilbaradziej/PythonProjects/DataAnalytics/Lab5_General_linear_models/logistic_regression_ppc\n",
      "INFO:cmdstanpy:compiled model executable: /Users/kamilbaradziej/PythonProjects/DataAnalytics/Lab5_General_linear_models/logistic_regression_ppc\n",
      "WARNING:cmdstanpy:Stan compiler has produced 1 warnings:\n",
      "WARNING:cmdstanpy:\n",
      "--- Translating Stan model to C++ code ---\n",
      "bin/stanc  --o=/Users/kamilbaradziej/PythonProjects/DataAnalytics/Lab5_General_linear_models/logistic_regression_ppc.hpp /Users/kamilbaradziej/PythonProjects/DataAnalytics/Lab5_General_linear_models/logistic_regression_ppc.stan\n",
      "Warning in '/Users/kamilbaradziej/PythonProjects/DataAnalytics/Lab5_General_linear_models/logistic_regression_ppc.stan', line 15, column 4: Declaration\n",
      "    of arrays by placing brackets after a variable name is deprecated and\n",
      "    will be removed in Stan 2.32.0. Instead use the array keyword before the\n",
      "    type. This can be changed automatically using the auto-format flag to\n",
      "    stanc\n",
      "\n",
      "--- Compiling, linking C++ code ---\n",
      "clang++ -std=c++1y -Wno-unknown-warning-option -Wno-tautological-compare -Wno-sign-compare -D_REENTRANT -Wno-ignored-attributes      -I stan/lib/stan_math/lib/tbb_2020.3/include    -O3 -I src -I stan/src -I lib/rapidjson_1.1.0/ -I lib/CLI11-1.9.1/ -I stan/lib/stan_math/ -I stan/lib/stan_math/lib/eigen_3.3.9 -I stan/lib/stan_math/lib/boost_1.75.0 -I stan/lib/stan_math/lib/sundials_6.0.0/include -I stan/lib/stan_math/lib/sundials_6.0.0/src/sundials    -DBOOST_DISABLE_ASSERTS          -c -include-pch stan/src/stan/model/model_header.hpp.gch -x c++ -o /Users/kamilbaradziej/PythonProjects/DataAnalytics/Lab5_General_linear_models/logistic_regression_ppc.o /Users/kamilbaradziej/PythonProjects/DataAnalytics/Lab5_General_linear_models/logistic_regression_ppc.hpp\n",
      "clang++ -std=c++1y -Wno-unknown-warning-option -Wno-tautological-compare -Wno-sign-compare -D_REENTRANT -Wno-ignored-attributes      -I stan/lib/stan_math/lib/tbb_2020.3/include    -O3 -I src -I stan/src -I lib/rapidjson_1.1.0/ -I lib/CLI11-1.9.1/ -I stan/lib/stan_math/ -I stan/lib/stan_math/lib/eigen_3.3.9 -I stan/lib/stan_math/lib/boost_1.75.0 -I stan/lib/stan_math/lib/sundials_6.0.0/include -I stan/lib/stan_math/lib/sundials_6.0.0/src/sundials    -DBOOST_DISABLE_ASSERTS                -Wl,-L,\"/Users/kamilbaradziej/.cmdstan/cmdstan-2.29.1/stan/lib/stan_math/lib/tbb\" -Wl,-rpath,\"/Users/kamilbaradziej/.cmdstan/cmdstan-2.29.1/stan/lib/stan_math/lib/tbb\"      /Users/kamilbaradziej/PythonProjects/DataAnalytics/Lab5_General_linear_models/logistic_regression_ppc.o src/cmdstan/main.o        -Wl,-L,\"/Users/kamilbaradziej/.cmdstan/cmdstan-2.29.1/stan/lib/stan_math/lib/tbb\" -Wl,-rpath,\"/Users/kamilbaradziej/.cmdstan/cmdstan-2.29.1/stan/lib/stan_math/lib/tbb\"   stan/lib/stan_math/lib/sundials_6.0.0/lib/libsundials_nvecserial.a stan/lib/stan_math/lib/sundials_6.0.0/lib/libsundials_cvodes.a stan/lib/stan_math/lib/sundials_6.0.0/lib/libsundials_idas.a stan/lib/stan_math/lib/sundials_6.0.0/lib/libsundials_kinsol.a  stan/lib/stan_math/lib/tbb/libtbb.dylib stan/lib/stan_math/lib/tbb/libtbbmalloc.dylib stan/lib/stan_math/lib/tbb/libtbbmalloc_proxy.dylib -o /Users/kamilbaradziej/PythonProjects/DataAnalytics/Lab5_General_linear_models/logistic_regression_ppc\n",
      "rm -f /Users/kamilbaradziej/PythonProjects/DataAnalytics/Lab5_General_linear_models/logistic_regression_ppc.o\n",
      "\n"
     ]
    }
   ],
   "source": [
    "model_ppc_1 = CmdStanModel(stan_file='logistic_regression_ppc.stan')"
   ]
  },
  {
   "cell_type": "code",
   "execution_count": 9,
   "metadata": {},
   "outputs": [
    {
     "name": "stderr",
     "output_type": "stream",
     "text": [
      "INFO:cmdstanpy:CmdStan start processing\n",
      "chain 1 |\u001b[34m█████████████████████████████████████████████\u001b[0m| 00:00 Sampling completed\u001b[0m"
     ]
    },
    {
     "name": "stdout",
     "output_type": "stream",
     "text": [
      "                                                                                "
     ]
    },
    {
     "name": "stderr",
     "output_type": "stream",
     "text": [
      "\n",
      "INFO:cmdstanpy:CmdStan done processing.\n"
     ]
    },
    {
     "name": "stdout",
     "output_type": "stream",
     "text": [
      "\n"
     ]
    }
   ],
   "source": [
    "R=1000\n",
    "data_ppc_1 = dict(N = data.shape[0],\n",
    "                 M = 5,\n",
    "                 X = data.iloc[:,0:5].values,\n",
    "                 sigma=10)\n",
    "sim_ppc_1 = model_ppc_1.sample(data=data_ppc_1, \n",
    "                           iter_sampling=R, iter_warmup=0, \n",
    "                           chains=1, \n",
    "                           refresh=R,\n",
    "                           fixed_param=True,\n",
    "                           seed=29042020)"
   ]
  },
  {
   "cell_type": "markdown",
   "metadata": {},
   "source": [
    "### **Task 1.**\n",
    "- Plot histograms of beta for prior model\n",
    "- Plot again the same histograms but this time with other sigma values. For instace use values: 5, 2, 0.75.\n",
    "- Consider which result should be taken into account when selecting prior."
   ]
  },
  {
   "cell_type": "code",
   "execution_count": 10,
   "metadata": {},
   "outputs": [
    {
     "data": {
      "image/png": "[encoded data removed]",
      "text/plain": [
       "<Figure size 432x288 with 1 Axes>"
      ]
     },
     "metadata": {
      "needs_background": "light"
     },
     "output_type": "display_data"
    }
   ],
   "source": [
    "# Plot histograms of beta for prior model\n",
    "\n",
    "beta = sim_ppc_1.stan_variable('beta')\n",
    "plt.hist(beta.flatten(), bins = 70)\n",
    "plt.title('Value of beta for sigma = 10')\n",
    "plt.show()"
   ]
  },
  {
   "cell_type": "code",
   "execution_count": 11,
   "metadata": {},
   "outputs": [
    {
     "name": "stderr",
     "output_type": "stream",
     "text": [
      "INFO:cmdstanpy:CmdStan start processing\n",
      "chain 1 |\u001b[34m█████████████████████████████████████████████\u001b[0m| 00:00 Sampling completed\u001b[0m"
     ]
    },
    {
     "name": "stdout",
     "output_type": "stream",
     "text": [
      "                                                                                "
     ]
    },
    {
     "name": "stderr",
     "output_type": "stream",
     "text": [
      "\n",
      "INFO:cmdstanpy:CmdStan done processing.\n"
     ]
    },
    {
     "name": "stdout",
     "output_type": "stream",
     "text": [
      "\n"
     ]
    }
   ],
   "source": [
    "# Plot again the same histograms but this time with other sigma values. For instace use values: 5, 2, 0.75\n",
    "\n",
    "# Sigma value = 5\n",
    "\n",
    "R=1000\n",
    "data_ppc_2 = dict(N = data.shape[0],\n",
    "                 M = 5,\n",
    "                 X = data.iloc[:,0:5].values,\n",
    "                 sigma=5)\n",
    "sim_ppc1_2 = model_ppc_1.sample(data=data_ppc_2,\n",
    "                           iter_sampling=R, iter_warmup=0,\n",
    "                           chains=1,\n",
    "                           refresh=R,\n",
    "                           fixed_param=True,\n",
    "                           seed=29042020)"
   ]
  },
  {
   "cell_type": "code",
   "execution_count": 12,
   "metadata": {},
   "outputs": [
    {
     "data": {
      "image/png": "[encoded data removed]",
      "text/plain": [
       "<Figure size 432x288 with 1 Axes>"
      ]
     },
     "metadata": {
      "needs_background": "light"
     },
     "output_type": "display_data"
    }
   ],
   "source": [
    "beta_2 = sim_ppc1_2.stan_variable('beta')\n",
    "plt.hist(beta_2.flatten(), bins = 70)\n",
    "plt.title('Value of beta for sigma = 5')\n",
    "plt.show()"
   ]
  },
  {
   "cell_type": "code",
   "execution_count": 14,
   "metadata": {},
   "outputs": [
    {
     "name": "stderr",
     "output_type": "stream",
     "text": [
      "INFO:cmdstanpy:CmdStan start processing\n",
      "chain 1 |\u001b[34m█████████████████████████████████████████████\u001b[0m| 00:00 Sampling completed\u001b[0m"
     ]
    },
    {
     "name": "stdout",
     "output_type": "stream",
     "text": [
      "                                                                                "
     ]
    },
    {
     "name": "stderr",
     "output_type": "stream",
     "text": [
      "\n",
      "INFO:cmdstanpy:CmdStan done processing.\n"
     ]
    },
    {
     "name": "stdout",
     "output_type": "stream",
     "text": [
      "\n"
     ]
    }
   ],
   "source": [
    "# Sigma value = 2\n",
    "\n",
    "R=1000\n",
    "data_ppc_3 = dict(N = data.shape[0],\n",
    "                 M = 5,\n",
    "                 X = data.iloc[:,0:5].values,\n",
    "                 sigma=2)\n",
    "sim_ppc1_3 = model_ppc_1.sample(data=data_ppc_3,\n",
    "                           iter_sampling=R, iter_warmup=0,\n",
    "                           chains=1,\n",
    "                           refresh=R,\n",
    "                           fixed_param=True,\n",
    "                           seed=29042020)"
   ]
  },
  {
   "cell_type": "code",
   "execution_count": 15,
   "metadata": {},
   "outputs": [
    {
     "data": {
      "image/png": "[encoded data removed]",
      "text/plain": [
       "<Figure size 432x288 with 1 Axes>"
      ]
     },
     "metadata": {
      "needs_background": "light"
     },
     "output_type": "display_data"
    }
   ],
   "source": [
    "beta_3 = sim_ppc1_3.stan_variable('beta')\n",
    "plt.hist(beta_3.flatten(), bins = 70)\n",
    "plt.title('Value of beta for sigma = 2')\n",
    "plt.show()"
   ]
  },
  {
   "cell_type": "code",
   "execution_count": 16,
   "metadata": {},
   "outputs": [
    {
     "name": "stderr",
     "output_type": "stream",
     "text": [
      "INFO:cmdstanpy:CmdStan start processing\n",
      "chain 1 |\u001b[34m█████████████████████████████████████████████\u001b[0m| 00:00 Sampling completed\u001b[0m"
     ]
    },
    {
     "name": "stdout",
     "output_type": "stream",
     "text": [
      "                                                                                "
     ]
    },
    {
     "name": "stderr",
     "output_type": "stream",
     "text": [
      "\n",
      "INFO:cmdstanpy:CmdStan done processing.\n"
     ]
    },
    {
     "name": "stdout",
     "output_type": "stream",
     "text": [
      "\n"
     ]
    }
   ],
   "source": [
    "# Sigma value = 0.75\n",
    "\n",
    "R=1000\n",
    "data_ppc_4 = dict(N = data.shape[0],\n",
    "                 M = 5,\n",
    "                 X = data.iloc[:,0:5].values,\n",
    "                 sigma = 0.75)\n",
    "sim_ppc1_4 = model_ppc_1.sample(data=data_ppc_4,\n",
    "                           iter_sampling=R, iter_warmup=0,\n",
    "                           chains=1,\n",
    "                           refresh=R,\n",
    "                           fixed_param=True,\n",
    "                           seed=29042020)"
   ]
  },
  {
   "cell_type": "code",
   "execution_count": 17,
   "metadata": {},
   "outputs": [
    {
     "data": {
      "image/png": "[encoded data removed]",
      "text/plain": [
       "<Figure size 432x288 with 1 Axes>"
      ]
     },
     "metadata": {
      "needs_background": "light"
     },
     "output_type": "display_data"
    }
   ],
   "source": [
    "beta_4 = sim_ppc1_4.stan_variable('beta')\n",
    "plt.hist(beta_4.flatten(), bins = 70)\n",
    "plt.title('Value of beta for sigma = 0.75')\n",
    "plt.show()"
   ]
  },
  {
   "cell_type": "markdown",
   "metadata": {},
   "source": [
    "### **Posterior inference**"
   ]
  },
  {
   "cell_type": "code",
   "execution_count": 18,
   "metadata": {},
   "outputs": [
    {
     "name": "stderr",
     "output_type": "stream",
     "text": [
      "INFO:cmdstanpy:compiling stan file /Users/kamilbaradziej/PythonProjects/DataAnalytics/Lab5_General_linear_models/logistic_regression.stan to exe file /Users/kamilbaradziej/PythonProjects/DataAnalytics/Lab5_General_linear_models/logistic_regression\n",
      "INFO:cmdstanpy:compiled model executable: /Users/kamilbaradziej/PythonProjects/DataAnalytics/Lab5_General_linear_models/logistic_regression\n",
      "WARNING:cmdstanpy:Stan compiler has produced 2 warnings:\n",
      "WARNING:cmdstanpy:\n",
      "--- Translating Stan model to C++ code ---\n",
      "bin/stanc  --o=/Users/kamilbaradziej/PythonProjects/DataAnalytics/Lab5_General_linear_models/logistic_regression.hpp /Users/kamilbaradziej/PythonProjects/DataAnalytics/Lab5_General_linear_models/logistic_regression.stan\n",
      "Warning in '/Users/kamilbaradziej/PythonProjects/DataAnalytics/Lab5_General_linear_models/logistic_regression.stan', line 5, column 4: Declaration\n",
      "    of arrays by placing brackets after a variable name is deprecated and\n",
      "    will be removed in Stan 2.32.0. Instead use the array keyword before the\n",
      "    type. This can be changed automatically using the auto-format flag to\n",
      "    stanc\n",
      "Warning in '/Users/kamilbaradziej/PythonProjects/DataAnalytics/Lab5_General_linear_models/logistic_regression.stan', line 24, column 4: Declaration\n",
      "    of arrays by placing brackets after a variable name is deprecated and\n",
      "    will be removed in Stan 2.32.0. Instead use the array keyword before the\n",
      "    type. This can be changed automatically using the auto-format flag to\n",
      "    stanc\n",
      "\n",
      "--- Compiling, linking C++ code ---\n",
      "clang++ -std=c++1y -Wno-unknown-warning-option -Wno-tautological-compare -Wno-sign-compare -D_REENTRANT -Wno-ignored-attributes      -I stan/lib/stan_math/lib/tbb_2020.3/include    -O3 -I src -I stan/src -I lib/rapidjson_1.1.0/ -I lib/CLI11-1.9.1/ -I stan/lib/stan_math/ -I stan/lib/stan_math/lib/eigen_3.3.9 -I stan/lib/stan_math/lib/boost_1.75.0 -I stan/lib/stan_math/lib/sundials_6.0.0/include -I stan/lib/stan_math/lib/sundials_6.0.0/src/sundials    -DBOOST_DISABLE_ASSERTS          -c -include-pch stan/src/stan/model/model_header.hpp.gch -x c++ -o /Users/kamilbaradziej/PythonProjects/DataAnalytics/Lab5_General_linear_models/logistic_regression.o /Users/kamilbaradziej/PythonProjects/DataAnalytics/Lab5_General_linear_models/logistic_regression.hpp\n",
      "clang++ -std=c++1y -Wno-unknown-warning-option -Wno-tautological-compare -Wno-sign-compare -D_REENTRANT -Wno-ignored-attributes      -I stan/lib/stan_math/lib/tbb_2020.3/include    -O3 -I src -I stan/src -I lib/rapidjson_1.1.0/ -I lib/CLI11-1.9.1/ -I stan/lib/stan_math/ -I stan/lib/stan_math/lib/eigen_3.3.9 -I stan/lib/stan_math/lib/boost_1.75.0 -I stan/lib/stan_math/lib/sundials_6.0.0/include -I stan/lib/stan_math/lib/sundials_6.0.0/src/sundials    -DBOOST_DISABLE_ASSERTS                -Wl,-L,\"/Users/kamilbaradziej/.cmdstan/cmdstan-2.29.1/stan/lib/stan_math/lib/tbb\" -Wl,-rpath,\"/Users/kamilbaradziej/.cmdstan/cmdstan-2.29.1/stan/lib/stan_math/lib/tbb\"      /Users/kamilbaradziej/PythonProjects/DataAnalytics/Lab5_General_linear_models/logistic_regression.o src/cmdstan/main.o        -Wl,-L,\"/Users/kamilbaradziej/.cmdstan/cmdstan-2.29.1/stan/lib/stan_math/lib/tbb\" -Wl,-rpath,\"/Users/kamilbaradziej/.cmdstan/cmdstan-2.29.1/stan/lib/stan_math/lib/tbb\"   stan/lib/stan_math/lib/sundials_6.0.0/lib/libsundials_nvecserial.a stan/lib/stan_math/lib/sundials_6.0.0/lib/libsundials_cvodes.a stan/lib/stan_math/lib/sundials_6.0.0/lib/libsundials_idas.a stan/lib/stan_math/lib/sundials_6.0.0/lib/libsundials_kinsol.a  stan/lib/stan_math/lib/tbb/libtbb.dylib stan/lib/stan_math/lib/tbb/libtbbmalloc.dylib stan/lib/stan_math/lib/tbb/libtbbmalloc_proxy.dylib -o /Users/kamilbaradziej/PythonProjects/DataAnalytics/Lab5_General_linear_models/logistic_regression\n",
      "rm -f /Users/kamilbaradziej/PythonProjects/DataAnalytics/Lab5_General_linear_models/logistic_regression.o\n",
      "\n"
     ]
    }
   ],
   "source": [
    "model_ = CmdStanModel(stan_file='logistic_regression.stan')"
   ]
  },
  {
   "cell_type": "code",
   "execution_count": 19,
   "metadata": {},
   "outputs": [
    {
     "name": "stderr",
     "output_type": "stream",
     "text": [
      "INFO:cmdstanpy:CmdStan start processing\n",
      "chain 1 |\u001b[33m                                                         \u001b[0m| 00:00 Status\u001b[0m\n",
      "chain 2 |\u001b[33m                                                         \u001b[0m| 00:00 Status\u001b[0m\u001b[A\n",
      "\n",
      "chain 3 |\u001b[33m                                                         \u001b[0m| 00:00 Status\u001b[0m\u001b[A\u001b[A\n",
      "\n",
      "\n",
      "chain 1 |\u001b[33m██▏                     \u001b[0m| 00:00 Iteration:    1 / 2000 [  0%]  (Warmup)\u001b[0m\u001b[A\u001b[A\u001b[A\n",
      "\n",
      "chain 3 |\u001b[33m██▏                     \u001b[0m| 00:00 Iteration:    1 / 2000 [  0%]  (Warmup)\u001b[0m\u001b[A\u001b[A\n",
      "chain 2 |\u001b[33m██▏                     \u001b[0m| 00:00 Iteration:    1 / 2000 [  0%]  (Warmup)\u001b[0m\u001b[A\n",
      "\n",
      "\n",
      "chain 1 |\u001b[33m████▎                   \u001b[0m| 00:00 Iteration:  200 / 2000 [ 10%]  (Warmup)\u001b[0m\u001b[A\u001b[A\u001b[A\n",
      "\n",
      "chain 3 |\u001b[33m████▎                   \u001b[0m| 00:00 Iteration:  200 / 2000 [ 10%]  (Warmup)\u001b[0m\u001b[A\u001b[A\n",
      "chain 2 |\u001b[33m████▎                   \u001b[0m| 00:00 Iteration:  200 / 2000 [ 10%]  (Warmup)\u001b[0m\u001b[A\n",
      "\n",
      "\n",
      "chain 1 |\u001b[33m██████▌                 \u001b[0m| 00:00 Iteration:  400 / 2000 [ 20%]  (Warmup)\u001b[0m\u001b[A\u001b[A\u001b[A\n",
      "\n",
      "chain 3 |\u001b[33m██████▌                 \u001b[0m| 00:00 Iteration:  400 / 2000 [ 20%]  (Warmup)\u001b[0m\u001b[A\u001b[A\n",
      "chain 2 |\u001b[33m██████▌                 \u001b[0m| 00:00 Iteration:  400 / 2000 [ 20%]  (Warmup)\u001b[0m\u001b[A\n",
      "\n",
      "\n",
      "chain 1 |\u001b[33m████████▋               \u001b[0m| 00:00 Iteration:  600 / 2000 [ 30%]  (Warmup)\u001b[0m\u001b[A\u001b[A\u001b[A\n",
      "\n",
      "chain 3 |\u001b[33m████████▋               \u001b[0m| 00:00 Iteration:  600 / 2000 [ 30%]  (Warmup)\u001b[0m\u001b[A\u001b[A\n",
      "chain 2 |\u001b[33m████████▋               \u001b[0m| 00:00 Iteration:  600 / 2000 [ 30%]  (Warmup)\u001b[0m\u001b[A\n",
      "\n",
      "\n",
      "chain 1 |\u001b[33m██████████▉             \u001b[0m| 00:00 Iteration:  800 / 2000 [ 40%]  (Warmup)\u001b[0m\u001b[A\u001b[A\u001b[A\n",
      "\n",
      "chain 3 |\u001b[33m██████████▉             \u001b[0m| 00:00 Iteration:  800 / 2000 [ 40%]  (Warmup)\u001b[0m\u001b[A\u001b[A\n",
      "chain 2 |\u001b[33m██████████▉             \u001b[0m| 00:00 Iteration:  800 / 2000 [ 40%]  (Warmup)\u001b[0m\u001b[A\n",
      "\n",
      "\n",
      "chain 1 |\u001b[34m█████████████         \u001b[0m| 00:00 Iteration: 1001 / 2000 [ 50%]  (Sampling)\u001b[0m\u001b[A\u001b[A\u001b[A\n",
      "\n",
      "chain 3 |\u001b[34m█████████████         \u001b[0m| 00:00 Iteration: 1001 / 2000 [ 50%]  (Sampling)\u001b[0m\u001b[A\u001b[A\n",
      "chain 2 |\u001b[34m█████████████         \u001b[0m| 00:00 Iteration: 1001 / 2000 [ 50%]  (Sampling)\u001b[0m\u001b[A\n",
      "\n",
      "\n",
      "chain 1 |\u001b[34m██████████████▉       \u001b[0m| 00:01 Iteration: 1200 / 2000 [ 60%]  (Sampling)\u001b[0m\u001b[A\u001b[A\u001b[A\n",
      "\n",
      "chain 3 |\u001b[34m██████████████▉       \u001b[0m| 00:01 Iteration: 1200 / 2000 [ 60%]  (Sampling)\u001b[0m\u001b[A\u001b[A\n",
      "\n",
      "\n",
      "chain 4 |\u001b[34m██████████████▉       \u001b[0m| 00:01 Iteration: 1200 / 2000 [ 60%]  (Sampling)\u001b[0m\u001b[A\u001b[A\u001b[A\n",
      "chain 1 |\u001b[34m█████████████████     \u001b[0m| 00:01 Iteration: 1400 / 2000 [ 70%]  (Sampling)\u001b[0m\u001b[A\n",
      "\n",
      "chain 3 |\u001b[34m█████████████████     \u001b[0m| 00:01 Iteration: 1400 / 2000 [ 70%]  (Sampling)\u001b[0m\u001b[A\u001b[A\n",
      "\n",
      "\n",
      "chain 4 |\u001b[34m█████████████████     \u001b[0m| 00:01 Iteration: 1400 / 2000 [ 70%]  (Sampling)\u001b[0m\u001b[A\u001b[A\u001b[A\n",
      "chain 1 |\u001b[34m███████████████████   \u001b[0m| 00:01 Iteration: 1600 / 2000 [ 80%]  (Sampling)\u001b[0m\u001b[A\n",
      "\n",
      "chain 3 |\u001b[34m███████████████████   \u001b[0m| 00:01 Iteration: 1600 / 2000 [ 80%]  (Sampling)\u001b[0m\u001b[A\u001b[A\n",
      "\n",
      "\n",
      "chain 4 |\u001b[34m███████████████████   \u001b[0m| 00:01 Iteration: 1600 / 2000 [ 80%]  (Sampling)\u001b[0m\u001b[A\u001b[A\u001b[A\n",
      "chain 2 |\u001b[34m███████████████████   \u001b[0m| 00:01 Iteration: 1600 / 2000 [ 80%]  (Sampling)\u001b[0m\u001b[A\n",
      "\n",
      "chain 3 |\u001b[34m████████████████████  \u001b[0m| 00:01 Iteration: 1700 / 2000 [ 85%]  (Sampling)\u001b[0m\u001b[A\u001b[A\n",
      "chain 1 |\u001b[34m█████████████████████ \u001b[0m| 00:01 Iteration: 1800 / 2000 [ 90%]  (Sampling)\u001b[0m\u001b[A\n",
      "\n",
      "chain 3 |\u001b[34m█████████████████████ \u001b[0m| 00:01 Iteration: 1800 / 2000 [ 90%]  (Sampling)\u001b[0m\u001b[A\u001b[A\n",
      "\n",
      "\n",
      "chain 4 |\u001b[34m█████████████████████ \u001b[0m| 00:01 Iteration: 1800 / 2000 [ 90%]  (Sampling)\u001b[0m\u001b[A\u001b[A\u001b[A\n",
      "chain 1 |\u001b[34m██████████████████████\u001b[0m| 00:02 Iteration: 1900 / 2000 [ 95%]  (Sampling)\u001b[0m\u001b[A\n",
      "\n",
      "chain 3 |\u001b[34m██████████████████████\u001b[0m| 00:02 Iteration: 1900 / 2000 [ 95%]  (Sampling)\u001b[0m\u001b[A\u001b[A\n",
      "\n",
      "\n",
      "chain 4 |\u001b[34m██████████████████████\u001b[0m| 00:02 Iteration: 1900 / 2000 [ 95%]  (Sampling)\u001b[0m\u001b[A\u001b[A\u001b[A\n",
      "chain 1 |\u001b[34m█████████████████████████████████████████████\u001b[0m| 00:02 Sampling completed\u001b[0m\u001b[A\n",
      "chain 2 |\u001b[34m█████████████████████████████████████████████\u001b[0m| 00:02 Sampling completed\u001b[0m\n",
      "chain 3 |\u001b[34m█████████████████████████████████████████████\u001b[0m| 00:02 Sampling completed\u001b[0m\n",
      "chain 4 |\u001b[34m█████████████████████████████████████████████\u001b[0m| 00:02 Sampling completed\u001b[0m"
     ]
    },
    {
     "name": "stdout",
     "output_type": "stream",
     "text": [
      "                                                                                                                                                                                                                                                                                                                                "
     ]
    },
    {
     "name": "stderr",
     "output_type": "stream",
     "text": [
      "\n",
      "INFO:cmdstanpy:CmdStan done processing.\n"
     ]
    },
    {
     "name": "stdout",
     "output_type": "stream",
     "text": [
      "\n"
     ]
    }
   ],
   "source": [
    "data_dict = dict(N = data.shape[0],\n",
    "                 M = 5,\n",
    "                 X = data.iloc[:, 0:5].values,\n",
    "                 y = data.y.values\n",
    "                 )\n",
    "fit = model_.sample(data=data_dict, seed=4938483)"
   ]
  },
  {
   "cell_type": "markdown",
   "metadata": {},
   "source": [
    "### **Task 2.**\n",
    "1. Edit stan model and create models with different priors. Use original setting and some priors from task 1.\n",
    "2. Fit the model\n",
    "\n",
    "3. Plot the probability of individual outcome:\n",
    "- plot generated paramether theta (prob_pcc): mean with its error bars (plt.errorbar)\n",
    "- to plot its error bars take into consider its 25th, 50th and 75th percentile\n",
    "- also mark the real value of y, by different colored dots (for mean values)\n",
    "Consider if the probability was well captured by each setting"
   ]
  },
  {
   "cell_type": "code",
   "execution_count": 21,
   "metadata": {},
   "outputs": [],
   "source": [
    "#plot\n",
    "prob_ppc = np.percentile(fit.stan_variable('prob_ppc'), [25, 50, 75], axis = 0)\n",
    "esti_ppc_df = pd.DataFrame(prob_ppc.T, columns = ['lo', 'med', 'hi'])\n",
    "\n",
    "esti_ppc_df['y'] = data.y\n",
    "esti_ppc_df.sort_values(by = 'med', inplace = True)\n",
    "esti_ppc_df\n",
    "\n",
    "error_bar = np.array((\n",
    "                    (esti_ppc_df['med'] - esti_ppc_df['lo']).values,\n",
    "                    (esti_ppc_df['hi'] - esti_ppc_df['med']).values))"
   ]
  },
  {
   "cell_type": "code",
   "execution_count": 23,
   "metadata": {},
   "outputs": [
    {
     "data": {
      "image/png": "[encoded data removed]",
      "text/plain": [
       "<Figure size 720x360 with 1 Axes>"
      ]
     },
     "metadata": {
      "needs_background": "light"
     },
     "output_type": "display_data"
    }
   ],
   "source": [
    "fig, axes = plt.subplots(1, 1, figsize=(10, 5), sharex = True)\n",
    "\n",
    "axes.scatter([*range(500)], esti_ppc_df.med,marker='.', c = [(1.*k, 1.*k, 1.*k) for k in esti_ppc_df.y])\n",
    "axes.errorbar([*range(500)], esti_ppc_df.med, yerr=error_bar, fmt='none',zorder=0)\n",
    "axes.legend(['Prob ppc','Error'])\n",
    "plt.show()"
   ]
  }
 ],
 "metadata": {
  "interpreter": {
   "hash": "82abf6d3cb7c1339564529b7c095ca1ee06ffd5f8222ad728c3400381e26202d"
  },
  "kernelspec": {
   "display_name": "Python 3 (ipykernel)",
   "language": "python",
   "name": "python3"
  },
  "language_info": {
   "codemirror_mode": {
    "name": "ipython",
    "version": 3
   },
   "file_extension": ".py",
   "mimetype": "text/x-python",
   "name": "python",
   "nbconvert_exporter": "python",
   "pygments_lexer": "ipython3",
   "version": "3.8.13"
  }
 },
 "nbformat": 4,
 "nbformat_minor": 2
}
